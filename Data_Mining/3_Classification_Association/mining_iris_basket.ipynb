{
 "cells": [
  {
   "cell_type": "markdown",
   "id": "97e84034",
   "metadata": {},
   "source": [
    "# Classification and ARM"
   ]
  },
  {
   "cell_type": "markdown",
   "id": "2ef06a9b",
   "metadata": {},
   "source": []
  }
 ],
 "metadata": {
  "language_info": {
   "name": "python"
  }
 },
 "nbformat": 4,
 "nbformat_minor": 5
}
