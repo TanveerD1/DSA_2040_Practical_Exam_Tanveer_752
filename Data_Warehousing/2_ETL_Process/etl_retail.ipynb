{
 "cells": [
  {
   "cell_type": "markdown",
   "id": "47fb00f7",
   "metadata": {},
   "source": [
    "# ETL Process for retail data Warehouse"
   ]
  },
  {
   "cell_type": "code",
   "execution_count": 1,
   "id": "7fde189f",
   "metadata": {},
   "outputs": [],
   "source": [
    "import pandas as pd\n",
    "import sqlite3\n",
    "from datetime import datetime\n",
    "import os"
   ]
  },
  {
   "cell_type": "markdown",
   "id": "88b8f518",
   "metadata": {},
   "source": [
    "# Config Since im downloading"
   ]
  }
 ],
 "metadata": {
  "kernelspec": {
   "display_name": "base",
   "language": "python",
   "name": "python3"
  },
  "language_info": {
   "codemirror_mode": {
    "name": "ipython",
    "version": 3
   },
   "file_extension": ".py",
   "mimetype": "text/x-python",
   "name": "python",
   "nbconvert_exporter": "python",
   "pygments_lexer": "ipython3",
   "version": "3.11.5"
  }
 },
 "nbformat": 4,
 "nbformat_minor": 5
}
