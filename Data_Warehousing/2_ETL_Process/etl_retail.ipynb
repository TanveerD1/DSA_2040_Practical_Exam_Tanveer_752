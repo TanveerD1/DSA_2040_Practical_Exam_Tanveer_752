{
 "cells": [
  {
   "cell_type": "markdown",
   "id": "47fb00f7",
   "metadata": {},
   "source": [
    "# ETL Process for retail data Warehouse"
   ]
  },
  {
   "cell_type": "code",
   "execution_count": 1,
   "id": "7fde189f",
   "metadata": {},
   "outputs": [],
   "source": [
    "import pandas as pd\n",
    "import sqlite3\n",
    "from datetime import datetime\n",
    "import os"
   ]
  },
  {
   "cell_type": "markdown",
   "id": "88b8f518",
   "metadata": {},
   "source": [
    "# Configurations\n",
    "Since i'm downloading the data from the internet, I need to set the config for the download"
   ]
  },
  {
   "cell_type": "code",
   "execution_count": null,
   "id": "77fbf849",
   "metadata": {},
   "outputs": [],
   "source": [
    "DATASET_URL = 'https://archive.ics.uci.edu/ml/machine-learning-databases/00352/Online%20Retail.xlsx'\n",
    "DB_FILE = 'retail_dw.db'\n",
    "SCHEMA_FILE = 'schema_design.sql'"
   ]
  },
  {
   "cell_type": "markdown",
   "id": "e0720ed8",
   "metadata": {},
   "source": [
    "# Start of ETL Pipeline"
   ]
  },
  {
   "cell_type": "code",
   "execution_count": 3,
   "id": "e1b756e0",
   "metadata": {},
   "outputs": [
    {
     "name": "stdout",
     "output_type": "stream",
     "text": [
      "[2025-08-12 16:41:32] Starting EXTRACTION phase...\n"
     ]
    }
   ],
   "source": [
    "print(f\"[{datetime.now().strftime('%Y-%m-%d %H:%M:%S')}] Starting EXTRACTION phase...\")"
   ]
  },
  {
   "cell_type": "markdown",
   "id": "11cacf27",
   "metadata": {},
   "source": [
    "# Extracting Data from UCI Online Retail Dataset"
   ]
  },
  {
   "cell_type": "code",
   "execution_count": 4,
   "id": "732e7e0b",
   "metadata": {},
   "outputs": [
    {
     "name": "stdout",
     "output_type": "stream",
     "text": [
      "[2025-08-12 16:44:09] Successfully extracted 541909 rows.\n",
      "Dataset shape: (541909, 8)\n",
      "\n",
      "First few rows:\n"
     ]
    },
    {
     "data": {
      "application/vnd.microsoft.datawrangler.viewer.v0+json": {
       "columns": [
        {
         "name": "index",
         "rawType": "int64",
         "type": "integer"
        },
        {
         "name": "InvoiceNo",
         "rawType": "object",
         "type": "string"
        },
        {
         "name": "StockCode",
         "rawType": "object",
         "type": "string"
        },
        {
         "name": "Description",
         "rawType": "object",
         "type": "string"
        },
        {
         "name": "Quantity",
         "rawType": "int64",
         "type": "integer"
        },
        {
         "name": "InvoiceDate",
         "rawType": "datetime64[ns]",
         "type": "datetime"
        },
        {
         "name": "UnitPrice",
         "rawType": "float64",
         "type": "float"
        },
        {
         "name": "CustomerID",
         "rawType": "float64",
         "type": "float"
        },
        {
         "name": "Country",
         "rawType": "object",
         "type": "string"
        }
       ],
       "ref": "3d6f0d22-b182-4073-8d16-dc571102786b",
       "rows": [
        [
         "0",
         "536365",
         "85123A",
         "WHITE HANGING HEART T-LIGHT HOLDER",
         "6",
         "2010-12-01 08:26:00",
         "2.55",
         "17850.0",
         "United Kingdom"
        ],
        [
         "1",
         "536365",
         "71053",
         "WHITE METAL LANTERN",
         "6",
         "2010-12-01 08:26:00",
         "3.39",
         "17850.0",
         "United Kingdom"
        ],
        [
         "2",
         "536365",
         "84406B",
         "CREAM CUPID HEARTS COAT HANGER",
         "8",
         "2010-12-01 08:26:00",
         "2.75",
         "17850.0",
         "United Kingdom"
        ],
        [
         "3",
         "536365",
         "84029G",
         "KNITTED UNION FLAG HOT WATER BOTTLE",
         "6",
         "2010-12-01 08:26:00",
         "3.39",
         "17850.0",
         "United Kingdom"
        ],
        [
         "4",
         "536365",
         "84029E",
         "RED WOOLLY HOTTIE WHITE HEART.",
         "6",
         "2010-12-01 08:26:00",
         "3.39",
         "17850.0",
         "United Kingdom"
        ]
       ],
       "shape": {
        "columns": 8,
        "rows": 5
       }
      },
      "text/html": [
       "<div>\n",
       "<style scoped>\n",
       "    .dataframe tbody tr th:only-of-type {\n",
       "        vertical-align: middle;\n",
       "    }\n",
       "\n",
       "    .dataframe tbody tr th {\n",
       "        vertical-align: top;\n",
       "    }\n",
       "\n",
       "    .dataframe thead th {\n",
       "        text-align: right;\n",
       "    }\n",
       "</style>\n",
       "<table border=\"1\" class=\"dataframe\">\n",
       "  <thead>\n",
       "    <tr style=\"text-align: right;\">\n",
       "      <th></th>\n",
       "      <th>InvoiceNo</th>\n",
       "      <th>StockCode</th>\n",
       "      <th>Description</th>\n",
       "      <th>Quantity</th>\n",
       "      <th>InvoiceDate</th>\n",
       "      <th>UnitPrice</th>\n",
       "      <th>CustomerID</th>\n",
       "      <th>Country</th>\n",
       "    </tr>\n",
       "  </thead>\n",
       "  <tbody>\n",
       "    <tr>\n",
       "      <th>0</th>\n",
       "      <td>536365</td>\n",
       "      <td>85123A</td>\n",
       "      <td>WHITE HANGING HEART T-LIGHT HOLDER</td>\n",
       "      <td>6</td>\n",
       "      <td>2010-12-01 08:26:00</td>\n",
       "      <td>2.55</td>\n",
       "      <td>17850.0</td>\n",
       "      <td>United Kingdom</td>\n",
       "    </tr>\n",
       "    <tr>\n",
       "      <th>1</th>\n",
       "      <td>536365</td>\n",
       "      <td>71053</td>\n",
       "      <td>WHITE METAL LANTERN</td>\n",
       "      <td>6</td>\n",
       "      <td>2010-12-01 08:26:00</td>\n",
       "      <td>3.39</td>\n",
       "      <td>17850.0</td>\n",
       "      <td>United Kingdom</td>\n",
       "    </tr>\n",
       "    <tr>\n",
       "      <th>2</th>\n",
       "      <td>536365</td>\n",
       "      <td>84406B</td>\n",
       "      <td>CREAM CUPID HEARTS COAT HANGER</td>\n",
       "      <td>8</td>\n",
       "      <td>2010-12-01 08:26:00</td>\n",
       "      <td>2.75</td>\n",
       "      <td>17850.0</td>\n",
       "      <td>United Kingdom</td>\n",
       "    </tr>\n",
       "    <tr>\n",
       "      <th>3</th>\n",
       "      <td>536365</td>\n",
       "      <td>84029G</td>\n",
       "      <td>KNITTED UNION FLAG HOT WATER BOTTLE</td>\n",
       "      <td>6</td>\n",
       "      <td>2010-12-01 08:26:00</td>\n",
       "      <td>3.39</td>\n",
       "      <td>17850.0</td>\n",
       "      <td>United Kingdom</td>\n",
       "    </tr>\n",
       "    <tr>\n",
       "      <th>4</th>\n",
       "      <td>536365</td>\n",
       "      <td>84029E</td>\n",
       "      <td>RED WOOLLY HOTTIE WHITE HEART.</td>\n",
       "      <td>6</td>\n",
       "      <td>2010-12-01 08:26:00</td>\n",
       "      <td>3.39</td>\n",
       "      <td>17850.0</td>\n",
       "      <td>United Kingdom</td>\n",
       "    </tr>\n",
       "  </tbody>\n",
       "</table>\n",
       "</div>"
      ],
      "text/plain": [
       "  InvoiceNo StockCode                          Description  Quantity  \\\n",
       "0    536365    85123A   WHITE HANGING HEART T-LIGHT HOLDER         6   \n",
       "1    536365     71053                  WHITE METAL LANTERN         6   \n",
       "2    536365    84406B       CREAM CUPID HEARTS COAT HANGER         8   \n",
       "3    536365    84029G  KNITTED UNION FLAG HOT WATER BOTTLE         6   \n",
       "4    536365    84029E       RED WOOLLY HOTTIE WHITE HEART.         6   \n",
       "\n",
       "          InvoiceDate  UnitPrice  CustomerID         Country  \n",
       "0 2010-12-01 08:26:00       2.55     17850.0  United Kingdom  \n",
       "1 2010-12-01 08:26:00       3.39     17850.0  United Kingdom  \n",
       "2 2010-12-01 08:26:00       2.75     17850.0  United Kingdom  \n",
       "3 2010-12-01 08:26:00       3.39     17850.0  United Kingdom  \n",
       "4 2010-12-01 08:26:00       3.39     17850.0  United Kingdom  "
      ]
     },
     "metadata": {},
     "output_type": "display_data"
    }
   ],
   "source": [
    "try:\n",
    "    df = pd.read_excel(DATASET_URL)\n",
    "    print(f\"[{datetime.now().strftime('%Y-%m-%d %H:%M:%S')}] Successfully extracted {len(df)} rows.\")\n",
    "    print(f\"Dataset shape: {df.shape}\")\n",
    "    print(\"\\nFirst few rows:\")\n",
    "    display(df.head())\n",
    "except Exception as e:\n",
    "    print(f\"[{datetime.now().strftime('%Y-%m-%d %H:%M:%S')}] Error during extraction: {e}\")\n",
    "    df = None\n"
   ]
  },
  {
   "cell_type": "markdown",
   "id": "733e826b",
   "metadata": {},
   "source": [
    "# Transformation"
   ]
  },
  {
   "cell_type": "markdown",
   "id": "804c0b2b",
   "metadata": {},
   "source": [
    "### cleaning and Preprocessing"
   ]
  },
  {
   "cell_type": "code",
   "execution_count": 5,
   "id": "8f76d9f6",
   "metadata": {},
   "outputs": [
    {
     "name": "stdout",
     "output_type": "stream",
     "text": [
      "\n",
      "Original data info:\n",
      "Total rows: 541909\n",
      "Missing CustomerID: 135080\n"
     ]
    }
   ],
   "source": [
    "    print(\"\\nOriginal data info:\")\n",
    "    print(f\"Total rows: {len(df)}\")\n",
    "    print(f\"Missing CustomerID: {df['CustomerID'].isna().sum()}\")"
   ]
  },
  {
   "cell_type": "markdown",
   "id": "1663bfb6",
   "metadata": {},
   "source": [
    "### Dropping Rowns with Missing CustomerID"
   ]
  },
  {
   "cell_type": "code",
   "execution_count": 6,
   "id": "85ec5777",
   "metadata": {},
   "outputs": [
    {
     "name": "stdout",
     "output_type": "stream",
     "text": [
      "[2025-08-12 16:46:13] Rows after dropping NA CustomerID: 406829\n"
     ]
    }
   ],
   "source": [
    "df.dropna(subset=['CustomerID'], inplace=True)\n",
    "print(f\"[{datetime.now().strftime('%Y-%m-%d %H:%M:%S')}] Rows after dropping NA CustomerID: {len(df)}\")\n",
    "    "
   ]
  },
  {
   "cell_type": "markdown",
   "id": "e3ec9cf7",
   "metadata": {},
   "source": [
    "### Converting Customer ID to Integer"
   ]
  },
  {
   "cell_type": "code",
   "execution_count": 7,
   "id": "2aee315e",
   "metadata": {},
   "outputs": [],
   "source": [
    "df['CustomerID'] = df['CustomerID'].astype(int)"
   ]
  },
  {
   "cell_type": "markdown",
   "id": "01c81404",
   "metadata": {},
   "source": [
    "### Removing 0 quantitu and 0 Unit Price"
   ]
  },
  {
   "cell_type": "code",
   "execution_count": 8,
   "id": "70174952",
   "metadata": {},
   "outputs": [],
   "source": [
    " df = df[(df['Quantity'] > 0) & (df['UnitPrice'] > 0)]"
   ]
  },
  {
   "cell_type": "markdown",
   "id": "c0cf346a",
   "metadata": {},
   "source": [
    "### Converting InvoiceDate to datetime Object"
   ]
  },
  {
   "cell_type": "code",
   "execution_count": 9,
   "id": "a8720342",
   "metadata": {},
   "outputs": [],
   "source": [
    "df['InvoiceDate'] = pd.to_datetime(df['InvoiceDate'])\n"
   ]
  },
  {
   "cell_type": "markdown",
   "id": "f9e460a0",
   "metadata": {},
   "source": [
    "# Feature Engineering and Filtering\n"
   ]
  },
  {
   "cell_type": "markdown",
   "id": "2c52a69e",
   "metadata": {},
   "source": [
    "### Calculate Total Sales as a New Column"
   ]
  },
  {
   "cell_type": "code",
   "execution_count": 10,
   "id": "264d62e3",
   "metadata": {},
   "outputs": [],
   "source": [
    "df['TotalSales'] = df['Quantity'] * df['UnitPrice']"
   ]
  },
  {
   "cell_type": "markdown",
   "id": "39aba03d",
   "metadata": {},
   "source": [
    "### Filter for the last year of data in the dataset"
   ]
  },
  {
   "cell_type": "code",
   "execution_count": 11,
   "id": "5790e09f",
   "metadata": {},
   "outputs": [
    {
     "name": "stdout",
     "output_type": "stream",
     "text": [
      "[2025-08-12 16:50:49] Rows after filtering for the last year: 384529\n",
      "Date range: 2010-12-09 12:59:00 to 2011-12-09 12:50:00\n"
     ]
    }
   ],
   "source": [
    "last_date = df['InvoiceDate'].max()\n",
    "one_year_prior = last_date - pd.DateOffset(years=1)\n",
    "df_filtered = df[df['InvoiceDate'] >= one_year_prior].copy()\n",
    "print(f\"[{datetime.now().strftime('%Y-%m-%d %H:%M:%S')}] Rows after filtering for the last year: {len(df_filtered)}\")\n",
    "print(f\"Date range: {df_filtered['InvoiceDate'].min()} to {df_filtered['InvoiceDate'].max()}\")\n"
   ]
  },
  {
   "cell_type": "markdown",
   "id": "f46e4fba",
   "metadata": {},
   "source": [
    "### Product Categorization\n",
    "Writing a Function to help categorize the products"
   ]
  },
  {
   "cell_type": "code",
   "execution_count": 12,
   "id": "8f0b863d",
   "metadata": {},
   "outputs": [],
   "source": [
    "def categorize_product(description):\n",
    "    description = str(description).lower()\n",
    "    if 'set' in description or 'kit' in description:\n",
    "        return 'Kits'\n",
    "    if 'bag' in description or 'box' in description:\n",
    "        return 'Storage'\n",
    "    if 'light' in description or 'lamp' in description:\n",
    "        return 'Decor'\n",
    "    if 'cake' in description or 'party' in description:\n",
    "        return 'Party Supplies'\n",
    "    return 'Other'"
   ]
  },
  {
   "cell_type": "markdown",
   "id": "7f0281ea",
   "metadata": {},
   "source": [
    "Implementing the function"
   ]
  },
  {
   "cell_type": "code",
   "execution_count": 13,
   "id": "418dde5c",
   "metadata": {},
   "outputs": [
    {
     "name": "stdout",
     "output_type": "stream",
     "text": [
      "Product categories distribution:\n",
      "Other             242838\n",
      "Kits               54368\n",
      "Storage            53864\n",
      "Party Supplies     17834\n",
      "Decor              15625\n",
      "Name: Category, dtype: int64\n"
     ]
    }
   ],
   "source": [
    "df_filtered['Category'] = df_filtered['Description'].apply(categorize_product)\n",
    "\n",
    "print(\"Product categories distribution:\")\n",
    "print(df_filtered['Category'].value_counts())"
   ]
  },
  {
   "cell_type": "markdown",
   "id": "d9c7ac15",
   "metadata": {},
   "source": [
    "### Creating a Time dimension"
   ]
  },
  {
   "cell_type": "code",
   "execution_count": 14,
   "id": "3c4d3e45",
   "metadata": {},
   "outputs": [
    {
     "name": "stdout",
     "output_type": "stream",
     "text": [
      "Time dimension created with 16630 unique dates\n",
      "\n",
      "Time dimension sample:\n"
     ]
    },
    {
     "data": {
      "application/vnd.microsoft.datawrangler.viewer.v0+json": {
       "columns": [
        {
         "name": "index",
         "rawType": "int64",
         "type": "integer"
        },
        {
         "name": "InvoiceDate",
         "rawType": "datetime64[ns]",
         "type": "datetime"
        },
        {
         "name": "Day",
         "rawType": "int64",
         "type": "integer"
        },
        {
         "name": "Month",
         "rawType": "int64",
         "type": "integer"
        },
        {
         "name": "Quarter",
         "rawType": "int64",
         "type": "integer"
        },
        {
         "name": "Year",
         "rawType": "int64",
         "type": "integer"
        },
        {
         "name": "TimeID",
         "rawType": "int64",
         "type": "integer"
        }
       ],
       "ref": "853b2ec3-4bd8-402a-afbe-1f0dd890f86d",
       "rows": [
        [
         "0",
         "2010-12-09 12:59:00",
         "9",
         "12",
         "4",
         "2010",
         "1"
        ],
        [
         "1",
         "2010-12-09 13:03:00",
         "9",
         "12",
         "4",
         "2010",
         "2"
        ],
        [
         "2",
         "2010-12-09 13:05:00",
         "9",
         "12",
         "4",
         "2010",
         "3"
        ],
        [
         "3",
         "2010-12-09 13:08:00",
         "9",
         "12",
         "4",
         "2010",
         "4"
        ],
        [
         "4",
         "2010-12-09 13:14:00",
         "9",
         "12",
         "4",
         "2010",
         "5"
        ]
       ],
       "shape": {
        "columns": 6,
        "rows": 5
       }
      },
      "text/html": [
       "<div>\n",
       "<style scoped>\n",
       "    .dataframe tbody tr th:only-of-type {\n",
       "        vertical-align: middle;\n",
       "    }\n",
       "\n",
       "    .dataframe tbody tr th {\n",
       "        vertical-align: top;\n",
       "    }\n",
       "\n",
       "    .dataframe thead th {\n",
       "        text-align: right;\n",
       "    }\n",
       "</style>\n",
       "<table border=\"1\" class=\"dataframe\">\n",
       "  <thead>\n",
       "    <tr style=\"text-align: right;\">\n",
       "      <th></th>\n",
       "      <th>InvoiceDate</th>\n",
       "      <th>Day</th>\n",
       "      <th>Month</th>\n",
       "      <th>Quarter</th>\n",
       "      <th>Year</th>\n",
       "      <th>TimeID</th>\n",
       "    </tr>\n",
       "  </thead>\n",
       "  <tbody>\n",
       "    <tr>\n",
       "      <th>0</th>\n",
       "      <td>2010-12-09 12:59:00</td>\n",
       "      <td>9</td>\n",
       "      <td>12</td>\n",
       "      <td>4</td>\n",
       "      <td>2010</td>\n",
       "      <td>1</td>\n",
       "    </tr>\n",
       "    <tr>\n",
       "      <th>1</th>\n",
       "      <td>2010-12-09 13:03:00</td>\n",
       "      <td>9</td>\n",
       "      <td>12</td>\n",
       "      <td>4</td>\n",
       "      <td>2010</td>\n",
       "      <td>2</td>\n",
       "    </tr>\n",
       "    <tr>\n",
       "      <th>2</th>\n",
       "      <td>2010-12-09 13:05:00</td>\n",
       "      <td>9</td>\n",
       "      <td>12</td>\n",
       "      <td>4</td>\n",
       "      <td>2010</td>\n",
       "      <td>3</td>\n",
       "    </tr>\n",
       "    <tr>\n",
       "      <th>3</th>\n",
       "      <td>2010-12-09 13:08:00</td>\n",
       "      <td>9</td>\n",
       "      <td>12</td>\n",
       "      <td>4</td>\n",
       "      <td>2010</td>\n",
       "      <td>4</td>\n",
       "    </tr>\n",
       "    <tr>\n",
       "      <th>4</th>\n",
       "      <td>2010-12-09 13:14:00</td>\n",
       "      <td>9</td>\n",
       "      <td>12</td>\n",
       "      <td>4</td>\n",
       "      <td>2010</td>\n",
       "      <td>5</td>\n",
       "    </tr>\n",
       "  </tbody>\n",
       "</table>\n",
       "</div>"
      ],
      "text/plain": [
       "          InvoiceDate  Day  Month  Quarter  Year  TimeID\n",
       "0 2010-12-09 12:59:00    9     12        4  2010       1\n",
       "1 2010-12-09 13:03:00    9     12        4  2010       2\n",
       "2 2010-12-09 13:05:00    9     12        4  2010       3\n",
       "3 2010-12-09 13:08:00    9     12        4  2010       4\n",
       "4 2010-12-09 13:14:00    9     12        4  2010       5"
      ]
     },
     "metadata": {},
     "output_type": "display_data"
    }
   ],
   "source": [
    "dim_time_df = df_filtered[['InvoiceDate']].copy()\n",
    "dim_time_df.drop_duplicates(inplace=True)\n",
    "dim_time_df['Day'] = dim_time_df['InvoiceDate'].dt.day\n",
    "dim_time_df['Month'] = dim_time_df['InvoiceDate'].dt.month\n",
    "dim_time_df['Quarter'] = dim_time_df['InvoiceDate'].dt.quarter\n",
    "dim_time_df['Year'] = dim_time_df['InvoiceDate'].dt.year\n",
    "dim_time_df.reset_index(drop=True, inplace=True)\n",
    "dim_time_df['TimeID'] = dim_time_df.index + 1  # Create a surrogate key\n",
    "\n",
    "print(f\"Time dimension created with {len(dim_time_df)} unique dates\")\n",
    "print(\"\\nTime dimension sample:\")\n",
    "display(dim_time_df.head())"
   ]
  },
  {
   "cell_type": "markdown",
   "id": "6e8e5a0d",
   "metadata": {},
   "source": [
    "### Creating Customer Dimension"
   ]
  },
  {
   "cell_type": "code",
   "execution_count": 15,
   "id": "ac8b42b9",
   "metadata": {},
   "outputs": [
    {
     "name": "stdout",
     "output_type": "stream",
     "text": [
      "Customer dimension created with 4269 unique customers\n",
      "Countries represented: 36\n",
      "\n",
      "Top countries by customer count:\n",
      "United Kingdom    3859\n",
      "Germany             93\n",
      "France              85\n",
      "Spain               28\n",
      "Belgium             24\n",
      "Name: Country, dtype: int64\n"
     ]
    }
   ],
   "source": [
    "dim_customer_df = df_filtered[['CustomerID', 'Country']].copy()\n",
    "dim_customer_df.drop_duplicates(subset=['CustomerID'], inplace=True)\n",
    "\n",
    "print(f\"Customer dimension created with {len(dim_customer_df)} unique customers\")\n",
    "print(f\"Countries represented: {dim_customer_df['Country'].nunique()}\")\n",
    "print(\"\\nTop countries by customer count:\")\n",
    "print(dim_customer_df['Country'].value_counts().head())"
   ]
  },
  {
   "cell_type": "markdown",
   "id": "046fc43f",
   "metadata": {},
   "source": [
    "### Creating Product Dimension"
   ]
  },
  {
   "cell_type": "code",
   "execution_count": 16,
   "id": "c9384a34",
   "metadata": {},
   "outputs": [
    {
     "name": "stdout",
     "output_type": "stream",
     "text": [
      "Product dimension created with 3630 unique products\n",
      "\n",
      "Product dimension sample:\n"
     ]
    },
    {
     "data": {
      "application/vnd.microsoft.datawrangler.viewer.v0+json": {
       "columns": [
        {
         "name": "index",
         "rawType": "int64",
         "type": "integer"
        },
        {
         "name": "StockCode",
         "rawType": "object",
         "type": "string"
        },
        {
         "name": "Description",
         "rawType": "object",
         "type": "string"
        },
        {
         "name": "Category",
         "rawType": "object",
         "type": "string"
        },
        {
         "name": "ProductID",
         "rawType": "int64",
         "type": "integer"
        }
       ],
       "ref": "2c324706-455e-44d0-b60e-12a0fc26fb0e",
       "rows": [
        [
         "0",
         "22669",
         "RED BABY BUNTING ",
         "Other",
         "1"
        ],
        [
         "1",
         "22465",
         "HANGING METAL STAR LANTERN",
         "Other",
         "2"
        ],
        [
         "2",
         "85123A",
         "WHITE HANGING HEART T-LIGHT HOLDER",
         "Decor",
         "3"
        ],
        [
         "3",
         "22727",
         "ALARM CLOCK BAKELIKE RED ",
         "Other",
         "4"
        ],
        [
         "4",
         "22726",
         "ALARM CLOCK BAKELIKE GREEN",
         "Other",
         "5"
        ]
       ],
       "shape": {
        "columns": 4,
        "rows": 5
       }
      },
      "text/html": [
       "<div>\n",
       "<style scoped>\n",
       "    .dataframe tbody tr th:only-of-type {\n",
       "        vertical-align: middle;\n",
       "    }\n",
       "\n",
       "    .dataframe tbody tr th {\n",
       "        vertical-align: top;\n",
       "    }\n",
       "\n",
       "    .dataframe thead th {\n",
       "        text-align: right;\n",
       "    }\n",
       "</style>\n",
       "<table border=\"1\" class=\"dataframe\">\n",
       "  <thead>\n",
       "    <tr style=\"text-align: right;\">\n",
       "      <th></th>\n",
       "      <th>StockCode</th>\n",
       "      <th>Description</th>\n",
       "      <th>Category</th>\n",
       "      <th>ProductID</th>\n",
       "    </tr>\n",
       "  </thead>\n",
       "  <tbody>\n",
       "    <tr>\n",
       "      <th>0</th>\n",
       "      <td>22669</td>\n",
       "      <td>RED BABY BUNTING</td>\n",
       "      <td>Other</td>\n",
       "      <td>1</td>\n",
       "    </tr>\n",
       "    <tr>\n",
       "      <th>1</th>\n",
       "      <td>22465</td>\n",
       "      <td>HANGING METAL STAR LANTERN</td>\n",
       "      <td>Other</td>\n",
       "      <td>2</td>\n",
       "    </tr>\n",
       "    <tr>\n",
       "      <th>2</th>\n",
       "      <td>85123A</td>\n",
       "      <td>WHITE HANGING HEART T-LIGHT HOLDER</td>\n",
       "      <td>Decor</td>\n",
       "      <td>3</td>\n",
       "    </tr>\n",
       "    <tr>\n",
       "      <th>3</th>\n",
       "      <td>22727</td>\n",
       "      <td>ALARM CLOCK BAKELIKE RED</td>\n",
       "      <td>Other</td>\n",
       "      <td>4</td>\n",
       "    </tr>\n",
       "    <tr>\n",
       "      <th>4</th>\n",
       "      <td>22726</td>\n",
       "      <td>ALARM CLOCK BAKELIKE GREEN</td>\n",
       "      <td>Other</td>\n",
       "      <td>5</td>\n",
       "    </tr>\n",
       "  </tbody>\n",
       "</table>\n",
       "</div>"
      ],
      "text/plain": [
       "  StockCode                         Description Category  ProductID\n",
       "0     22669                   RED BABY BUNTING     Other          1\n",
       "1     22465          HANGING METAL STAR LANTERN    Other          2\n",
       "2    85123A  WHITE HANGING HEART T-LIGHT HOLDER    Decor          3\n",
       "3     22727           ALARM CLOCK BAKELIKE RED     Other          4\n",
       "4     22726          ALARM CLOCK BAKELIKE GREEN    Other          5"
      ]
     },
     "metadata": {},
     "output_type": "display_data"
    }
   ],
   "source": [
    "dim_product_df = df_filtered[['StockCode', 'Description', 'Category']].copy()\n",
    "dim_product_df.drop_duplicates(subset=['StockCode'], inplace=True)\n",
    "dim_product_df.reset_index(drop=True, inplace=True)\n",
    "dim_product_df['ProductID'] = dim_product_df.index + 1  # Create a surrogate key\n",
    "\n",
    "print(f\"Product dimension created with {len(dim_product_df)} unique products\")\n",
    "print(\"\\nProduct dimension sample:\")\n",
    "display(dim_product_df.head())\n"
   ]
  },
  {
   "cell_type": "markdown",
   "id": "369ec2c6",
   "metadata": {},
   "source": [
    "### Creating Fact Table"
   ]
  },
  {
   "cell_type": "code",
   "execution_count": 17,
   "id": "925e48be",
   "metadata": {},
   "outputs": [
    {
     "name": "stdout",
     "output_type": "stream",
     "text": [
      "[2025-08-12 16:59:54] Transformation complete. Processed 371053 fact rows.\n",
      "\n",
      "Fact table sample:\n"
     ]
    },
    {
     "data": {
      "application/vnd.microsoft.datawrangler.viewer.v0+json": {
       "columns": [
        {
         "name": "index",
         "rawType": "int64",
         "type": "integer"
        },
        {
         "name": "InvoiceNo",
         "rawType": "object",
         "type": "string"
        },
        {
         "name": "Quantity",
         "rawType": "int64",
         "type": "integer"
        },
        {
         "name": "UnitPrice",
         "rawType": "float64",
         "type": "float"
        },
        {
         "name": "TotalSales",
         "rawType": "float64",
         "type": "float"
        },
        {
         "name": "TimeID",
         "rawType": "int64",
         "type": "integer"
        },
        {
         "name": "ProductID",
         "rawType": "int64",
         "type": "integer"
        },
        {
         "name": "CustomerID",
         "rawType": "int64",
         "type": "integer"
        }
       ],
       "ref": "26c1cc61-27f2-48e1-a521-b80404b956f1",
       "rows": [
        [
         "0",
         "538032",
         "5",
         "2.95",
         "14.75",
         "1",
         "1",
         "14479"
        ],
        [
         "1",
         "538032",
         "12",
         "1.65",
         "19.799999999999997",
         "1",
         "2",
         "14479"
        ],
        [
         "2",
         "538032",
         "6",
         "2.95",
         "17.700000000000003",
         "1",
         "3",
         "14479"
        ],
        [
         "3",
         "538032",
         "4",
         "3.75",
         "15.0",
         "1",
         "4",
         "14479"
        ],
        [
         "4",
         "538032",
         "4",
         "3.75",
         "15.0",
         "1",
         "5",
         "14479"
        ]
       ],
       "shape": {
        "columns": 7,
        "rows": 5
       }
      },
      "text/html": [
       "<div>\n",
       "<style scoped>\n",
       "    .dataframe tbody tr th:only-of-type {\n",
       "        vertical-align: middle;\n",
       "    }\n",
       "\n",
       "    .dataframe tbody tr th {\n",
       "        vertical-align: top;\n",
       "    }\n",
       "\n",
       "    .dataframe thead th {\n",
       "        text-align: right;\n",
       "    }\n",
       "</style>\n",
       "<table border=\"1\" class=\"dataframe\">\n",
       "  <thead>\n",
       "    <tr style=\"text-align: right;\">\n",
       "      <th></th>\n",
       "      <th>InvoiceNo</th>\n",
       "      <th>Quantity</th>\n",
       "      <th>UnitPrice</th>\n",
       "      <th>TotalSales</th>\n",
       "      <th>TimeID</th>\n",
       "      <th>ProductID</th>\n",
       "      <th>CustomerID</th>\n",
       "    </tr>\n",
       "  </thead>\n",
       "  <tbody>\n",
       "    <tr>\n",
       "      <th>0</th>\n",
       "      <td>538032</td>\n",
       "      <td>5</td>\n",
       "      <td>2.95</td>\n",
       "      <td>14.75</td>\n",
       "      <td>1</td>\n",
       "      <td>1</td>\n",
       "      <td>14479</td>\n",
       "    </tr>\n",
       "    <tr>\n",
       "      <th>1</th>\n",
       "      <td>538032</td>\n",
       "      <td>12</td>\n",
       "      <td>1.65</td>\n",
       "      <td>19.80</td>\n",
       "      <td>1</td>\n",
       "      <td>2</td>\n",
       "      <td>14479</td>\n",
       "    </tr>\n",
       "    <tr>\n",
       "      <th>2</th>\n",
       "      <td>538032</td>\n",
       "      <td>6</td>\n",
       "      <td>2.95</td>\n",
       "      <td>17.70</td>\n",
       "      <td>1</td>\n",
       "      <td>3</td>\n",
       "      <td>14479</td>\n",
       "    </tr>\n",
       "    <tr>\n",
       "      <th>3</th>\n",
       "      <td>538032</td>\n",
       "      <td>4</td>\n",
       "      <td>3.75</td>\n",
       "      <td>15.00</td>\n",
       "      <td>1</td>\n",
       "      <td>4</td>\n",
       "      <td>14479</td>\n",
       "    </tr>\n",
       "    <tr>\n",
       "      <th>4</th>\n",
       "      <td>538032</td>\n",
       "      <td>4</td>\n",
       "      <td>3.75</td>\n",
       "      <td>15.00</td>\n",
       "      <td>1</td>\n",
       "      <td>5</td>\n",
       "      <td>14479</td>\n",
       "    </tr>\n",
       "  </tbody>\n",
       "</table>\n",
       "</div>"
      ],
      "text/plain": [
       "  InvoiceNo  Quantity  UnitPrice  TotalSales  TimeID  ProductID  CustomerID\n",
       "0    538032         5       2.95       14.75       1          1       14479\n",
       "1    538032        12       1.65       19.80       1          2       14479\n",
       "2    538032         6       2.95       17.70       1          3       14479\n",
       "3    538032         4       3.75       15.00       1          4       14479\n",
       "4    538032         4       3.75       15.00       1          5       14479"
      ]
     },
     "metadata": {},
     "output_type": "display_data"
    },
    {
     "name": "stdout",
     "output_type": "stream",
     "text": [
      "\n",
      "Fact table statistics:\n",
      "Total sales amount: $8,261,140.72\n",
      "Average order value: $22.26\n"
     ]
    }
   ],
   "source": [
    "fact_sales_df = df_filtered.merge(dim_time_df, on='InvoiceDate')\n",
    "fact_sales_df = fact_sales_df.merge(dim_product_df, on=['StockCode', 'Description', 'Category'])\n",
    "fact_sales_df = fact_sales_df.merge(dim_customer_df, on='CustomerID')\n",
    "\n",
    "# Select and rename columns for the final fact table\n",
    "fact_sales_df = fact_sales_df[['InvoiceNo', 'Quantity', 'UnitPrice', 'TotalSales', 'TimeID', 'ProductID', 'CustomerID']]\n",
    "\n",
    "print(f\"[{datetime.now().strftime('%Y-%m-%d %H:%M:%S')}] Transformation complete. Processed {len(fact_sales_df)} fact rows.\")\n",
    "print(\"\\nFact table sample:\")\n",
    "display(fact_sales_df.head())\n",
    "\n",
    "print(f\"\\nFact table statistics:\")\n",
    "print(f\"Total sales amount: ${fact_sales_df['TotalSales'].sum():,.2f}\")\n",
    "print(f\"Average order value: ${fact_sales_df['TotalSales'].mean():.2f}\")\n"
   ]
  },
  {
   "cell_type": "markdown",
   "id": "66748ddc",
   "metadata": {},
   "source": [
    "# Start Loading Phase"
   ]
  },
  {
   "cell_type": "code",
   "execution_count": 18,
   "id": "96d3cdb1",
   "metadata": {},
   "outputs": [
    {
     "name": "stdout",
     "output_type": "stream",
     "text": [
      "[2025-08-12 17:00:45] Starting LOAD phase...\n",
      "[2025-08-12 17:00:45] Removed existing database file: retail_dw.db\n"
     ]
    }
   ],
   "source": [
    "print(f\"[{datetime.now().strftime('%Y-%m-%d %H:%M:%S')}] Starting LOAD phase...\")\n",
    "\n",
    "# Remove old DB file to ensure a fresh start\n",
    "if os.path.exists(DB_FILE):\n",
    "    os.remove(DB_FILE)\n",
    "    print(f\"[{datetime.now().strftime('%Y-%m-%d %H:%M:%S')}] Removed existing database file: {DB_FILE}\")\n",
    "\n",
    "conn = sqlite3.connect(DB_FILE)\n",
    "cursor = conn.cursor()"
   ]
  },
  {
   "cell_type": "markdown",
   "id": "1c232910",
   "metadata": {},
   "source": [
    "# Creating Database schema and loading data"
   ]
  },
  {
   "cell_type": "code",
   "execution_count": 19,
   "id": "dd6efeaa",
   "metadata": {},
   "outputs": [
    {
     "name": "stdout",
     "output_type": "stream",
     "text": [
      "[2025-08-12 17:02:04] Warning: Schema file 'schema_design.sql' not found. Creating tables directly.\n",
      "[2025-08-12 17:02:04] Loaded 16630 rows into DimTime.\n",
      "[2025-08-12 17:02:04] Loaded 3630 rows into DimProduct.\n",
      "[2025-08-12 17:02:04] Loaded 4269 rows into DimCustomer.\n",
      "[2025-08-12 17:02:05] Loaded 371053 rows into FactSales.\n",
      "[2025-08-12 17:02:05] Data loaded successfully into the warehouse.\n",
      "[2025-08-12 17:02:05] Database connection closed.\n"
     ]
    }
   ],
   "source": [
    "if df is not None and 'fact_sales_df' in locals():\n",
    "    try:\n",
    "        # Create tables from schema file (if it exists)\n",
    "        if os.path.exists(SCHEMA_FILE):\n",
    "            with open(SCHEMA_FILE, 'r') as f:\n",
    "                cursor.executescript(f.read())\n",
    "            print(f\"[{datetime.now().strftime('%Y-%m-%d %H:%M:%S')}] Database schema created successfully.\")\n",
    "        else:\n",
    "            print(f\"[{datetime.now().strftime('%Y-%m-%d %H:%M:%S')}] Warning: Schema file '{SCHEMA_FILE}' not found. Creating tables directly.\")\n",
    "        \n",
    "        # Load data into tables\n",
    "        dim_time_df.to_sql('DimTime', conn, if_exists='replace', index=False)\n",
    "        print(f\"[{datetime.now().strftime('%Y-%m-%d %H:%M:%S')}] Loaded {len(dim_time_df)} rows into DimTime.\")\n",
    "        \n",
    "        dim_product_df.to_sql('DimProduct', conn, if_exists='replace', index=False)\n",
    "        print(f\"[{datetime.now().strftime('%Y-%m-%d %H:%M:%S')}] Loaded {len(dim_product_df)} rows into DimProduct.\")\n",
    "        \n",
    "        dim_customer_df.to_sql('DimCustomer', conn, if_exists='replace', index=False)\n",
    "        print(f\"[{datetime.now().strftime('%Y-%m-%d %H:%M:%S')}] Loaded {len(dim_customer_df)} rows into DimCustomer.\")\n",
    "        \n",
    "        fact_sales_df.to_sql('FactSales', conn, if_exists='replace', index=False)\n",
    "        print(f\"[{datetime.now().strftime('%Y-%m-%d %H:%M:%S')}] Loaded {len(fact_sales_df)} rows into FactSales.\")\n",
    "        \n",
    "        conn.commit()\n",
    "        print(f\"[{datetime.now().strftime('%Y-%m-%d %H:%M:%S')}] Data loaded successfully into the warehouse.\")\n",
    "        \n",
    "    except Exception as e:\n",
    "        print(f\"[{datetime.now().strftime('%Y-%m-%d %H:%M:%S')}] Error during load phase: {e}\")\n",
    "        conn.rollback()\n",
    "    finally:\n",
    "        conn.close()\n",
    "        print(f\"[{datetime.now().strftime('%Y-%m-%d %H:%M:%S')}] Database connection closed.\")\n"
   ]
  },
  {
   "cell_type": "markdown",
   "id": "bbee0cc6",
   "metadata": {},
   "source": [
    "### Verifying loaded Data"
   ]
  },
  {
   "cell_type": "code",
   "execution_count": 20,
   "id": "d50ce889",
   "metadata": {},
   "outputs": [
    {
     "name": "stdout",
     "output_type": "stream",
     "text": [
      "DimTime: 16630 rows\n",
      "DimProduct: 3630 rows\n",
      "DimCustomer: 4269 rows\n",
      "FactSales: 371053 rows\n"
     ]
    }
   ],
   "source": [
    "if os.path.exists(DB_FILE):\n",
    "    conn = sqlite3.connect(DB_FILE)\n",
    "    \n",
    "    # Check table counts\n",
    "    tables = ['DimTime', 'DimProduct', 'DimCustomer', 'FactSales']\n",
    "    for table in tables:\n",
    "        try:\n",
    "            count = pd.read_sql_query(f\"SELECT COUNT(*) as count FROM {table}\", conn).iloc[0]['count']\n",
    "            print(f\"{table}: {count} rows\")\n",
    "        except Exception as e:\n",
    "            print(f\"{table}: Error - {e}\")\n",
    "    \n",
    "    conn.close()\n",
    "else:\n",
    "    print(\"Database file not found.\")"
   ]
  },
  {
   "cell_type": "markdown",
   "id": "5ba57a43",
   "metadata": {},
   "source": [
    "### Pipeline complete"
   ]
  },
  {
   "cell_type": "markdown",
   "id": "31940e3c",
   "metadata": {},
   "source": []
  }
 ],
 "metadata": {
  "kernelspec": {
   "display_name": "base",
   "language": "python",
   "name": "python3"
  },
  "language_info": {
   "codemirror_mode": {
    "name": "ipython",
    "version": 3
   },
   "file_extension": ".py",
   "mimetype": "text/x-python",
   "name": "python",
   "nbconvert_exporter": "python",
   "pygments_lexer": "ipython3",
   "version": "3.11.5"
  }
 },
 "nbformat": 4,
 "nbformat_minor": 5
}
