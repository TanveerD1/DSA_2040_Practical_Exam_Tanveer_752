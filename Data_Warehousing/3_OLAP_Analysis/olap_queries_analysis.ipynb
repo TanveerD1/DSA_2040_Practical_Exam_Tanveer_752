{
 "cells": [
  {
   "cell_type": "markdown",
   "id": "18a899af",
   "metadata": {},
   "source": [
    "# Olap Queries Analysis"
   ]
  },
  {
   "cell_type": "code",
   "execution_count": 1,
   "id": "4dfa6add",
   "metadata": {},
   "outputs": [],
   "source": [
    "import pandas as pd\n",
    "import sqlite3\n",
    "import matplotlib.pyplot as plt\n",
    "from IPython.display import display"
   ]
  },
  {
   "cell_type": "markdown",
   "id": "77993f73",
   "metadata": {},
   "source": [
    "#### Connection To DAtabase from part 2"
   ]
  },
  {
   "cell_type": "code",
   "execution_count": 4,
   "id": "5d8c2e5f",
   "metadata": {},
   "outputs": [],
   "source": [
    "conn = sqlite3.connect('../2_ETL_Process/retail_dw.db')"
   ]
  },
  {
   "cell_type": "markdown",
   "id": "bbf52db5",
   "metadata": {},
   "source": [
    "# Query 1: Roll-up\n",
    "- Objective: Aggregate total sales by country and then by quarter to see high-level performance.\n",
    "- This query rolls up sales from individual transactions to the country-quarter level."
   ]
  },
  {
   "cell_type": "code",
   "execution_count": 5,
   "id": "4f5af632",
   "metadata": {},
   "outputs": [
    {
     "name": "stdout",
     "output_type": "stream",
     "text": [
      "Roll-up: Total sales by country and quarter\n"
     ]
    },
    {
     "data": {
      "application/vnd.microsoft.datawrangler.viewer.v0+json": {
       "columns": [
        {
         "name": "index",
         "rawType": "int64",
         "type": "integer"
        },
        {
         "name": "Country",
         "rawType": "object",
         "type": "string"
        },
        {
         "name": "Year",
         "rawType": "int64",
         "type": "integer"
        },
        {
         "name": "Quarter",
         "rawType": "int64",
         "type": "integer"
        },
        {
         "name": "TotalSalesAmount",
         "rawType": "float64",
         "type": "float"
        }
       ],
       "ref": "a62da06b-407c-48a9-af6a-6129f503c969",
       "rows": [
        [
         "0",
         "Australia",
         "2010",
         "4",
         "415.7"
        ],
        [
         "1",
         "Australia",
         "2011",
         "1",
         "41307.21999999998"
        ],
        [
         "2",
         "Australia",
         "2011",
         "2",
         "39128.239999999976"
        ],
        [
         "3",
         "Australia",
         "2011",
         "3",
         "30185.670000000016"
        ],
        [
         "4",
         "Australia",
         "2011",
         "4",
         "24168.42999999999"
        ],
        [
         "5",
         "Austria",
         "2011",
         "1",
         "2226.4800000000005"
        ],
        [
         "6",
         "Austria",
         "2011",
         "2",
         "3005.8099999999995"
        ],
        [
         "7",
         "Austria",
         "2011",
         "3",
         "2621.4300000000007"
        ],
        [
         "8",
         "Austria",
         "2011",
         "4",
         "3895.8800000000006"
        ],
        [
         "9",
         "Bahrain",
         "2011",
         "2",
         "548.4"
        ],
        [
         "10",
         "Belgium",
         "2010",
         "4",
         "1463.8100000000002"
        ],
        [
         "11",
         "Belgium",
         "2011",
         "1",
         "6021.5499999999965"
        ],
        [
         "12",
         "Belgium",
         "2011",
         "2",
         "9283.79999999999"
        ],
        [
         "13",
         "Belgium",
         "2011",
         "3",
         "9974.549999999992"
        ],
        [
         "14",
         "Belgium",
         "2011",
         "4",
         "13419.21"
        ],
        [
         "15",
         "Brazil",
         "2011",
         "2",
         "1143.6000000000004"
        ],
        [
         "16",
         "Canada",
         "2011",
         "1",
         "140.54"
        ],
        [
         "17",
         "Canada",
         "2011",
         "2",
         "1645.7000000000003"
        ],
        [
         "18",
         "Canada",
         "2011",
         "3",
         "1810.7800000000004"
        ],
        [
         "19",
         "Channel Islands",
         "2011",
         "1",
         "5969.620000000002"
        ],
        [
         "20",
         "Channel Islands",
         "2011",
         "2",
         "3512.370000000002"
        ],
        [
         "21",
         "Channel Islands",
         "2011",
         "3",
         "6032.629999999998"
        ],
        [
         "22",
         "Channel Islands",
         "2011",
         "4",
         "3930.580000000002"
        ],
        [
         "23",
         "Cyprus",
         "2010",
         "4",
         "1847.7700000000004"
        ],
        [
         "24",
         "Cyprus",
         "2011",
         "1",
         "5697.729999999998"
        ],
        [
         "25",
         "Cyprus",
         "2011",
         "2",
         "1253.0199999999998"
        ],
        [
         "26",
         "Cyprus",
         "2011",
         "3",
         "503.5599999999999"
        ],
        [
         "27",
         "Cyprus",
         "2011",
         "4",
         "4270.220000000004"
        ],
        [
         "28",
         "Czech Republic",
         "2011",
         "1",
         "549.2599999999999"
        ],
        [
         "29",
         "Czech Republic",
         "2011",
         "4",
         "237.64000000000001"
        ],
        [
         "30",
         "Denmark",
         "2011",
         "1",
         "4378.21"
        ],
        [
         "31",
         "Denmark",
         "2011",
         "2",
         "2338.2"
        ],
        [
         "32",
         "Denmark",
         "2011",
         "3",
         "5139.5499999999965"
        ],
        [
         "33",
         "Denmark",
         "2011",
         "4",
         "1786.9100000000008"
        ],
        [
         "34",
         "EIRE",
         "2010",
         "4",
         "4080.1"
        ],
        [
         "35",
         "EIRE",
         "2011",
         "1",
         "52111.819999999905"
        ],
        [
         "36",
         "EIRE",
         "2011",
         "2",
         "42237.06000000012"
        ],
        [
         "37",
         "EIRE",
         "2011",
         "3",
         "96020.4899999996"
        ],
        [
         "38",
         "EIRE",
         "2011",
         "4",
         "58003.69000000013"
        ],
        [
         "39",
         "European Community",
         "2011",
         "2",
         "623.4499999999999"
        ],
        [
         "40",
         "European Community",
         "2011",
         "3",
         "676.8000000000001"
        ],
        [
         "41",
         "Finland",
         "2010",
         "4",
         "892.7999999999998"
        ],
        [
         "42",
         "Finland",
         "2011",
         "1",
         "7001.300000000005"
        ],
        [
         "43",
         "Finland",
         "2011",
         "2",
         "1416.4800000000002"
        ],
        [
         "44",
         "Finland",
         "2011",
         "3",
         "4512.680000000003"
        ],
        [
         "45",
         "Finland",
         "2011",
         "4",
         "4595.500000000001"
        ],
        [
         "46",
         "France",
         "2010",
         "4",
         "4064.940000000001"
        ],
        [
         "47",
         "France",
         "2011",
         "1",
         "40659.83"
        ],
        [
         "48",
         "France",
         "2011",
         "2",
         "38641.299999999974"
        ],
        [
         "49",
         "France",
         "2011",
         "3",
         "45661.360000000066"
        ]
       ],
       "shape": {
        "columns": 4,
        "rows": 131
       }
      },
      "text/html": [
       "<div>\n",
       "<style scoped>\n",
       "    .dataframe tbody tr th:only-of-type {\n",
       "        vertical-align: middle;\n",
       "    }\n",
       "\n",
       "    .dataframe tbody tr th {\n",
       "        vertical-align: top;\n",
       "    }\n",
       "\n",
       "    .dataframe thead th {\n",
       "        text-align: right;\n",
       "    }\n",
       "</style>\n",
       "<table border=\"1\" class=\"dataframe\">\n",
       "  <thead>\n",
       "    <tr style=\"text-align: right;\">\n",
       "      <th></th>\n",
       "      <th>Country</th>\n",
       "      <th>Year</th>\n",
       "      <th>Quarter</th>\n",
       "      <th>TotalSalesAmount</th>\n",
       "    </tr>\n",
       "  </thead>\n",
       "  <tbody>\n",
       "    <tr>\n",
       "      <th>0</th>\n",
       "      <td>Australia</td>\n",
       "      <td>2010</td>\n",
       "      <td>4</td>\n",
       "      <td>415.700</td>\n",
       "    </tr>\n",
       "    <tr>\n",
       "      <th>1</th>\n",
       "      <td>Australia</td>\n",
       "      <td>2011</td>\n",
       "      <td>1</td>\n",
       "      <td>41307.220</td>\n",
       "    </tr>\n",
       "    <tr>\n",
       "      <th>2</th>\n",
       "      <td>Australia</td>\n",
       "      <td>2011</td>\n",
       "      <td>2</td>\n",
       "      <td>39128.240</td>\n",
       "    </tr>\n",
       "    <tr>\n",
       "      <th>3</th>\n",
       "      <td>Australia</td>\n",
       "      <td>2011</td>\n",
       "      <td>3</td>\n",
       "      <td>30185.670</td>\n",
       "    </tr>\n",
       "    <tr>\n",
       "      <th>4</th>\n",
       "      <td>Australia</td>\n",
       "      <td>2011</td>\n",
       "      <td>4</td>\n",
       "      <td>24168.430</td>\n",
       "    </tr>\n",
       "    <tr>\n",
       "      <th>...</th>\n",
       "      <td>...</td>\n",
       "      <td>...</td>\n",
       "      <td>...</td>\n",
       "      <td>...</td>\n",
       "    </tr>\n",
       "    <tr>\n",
       "      <th>126</th>\n",
       "      <td>United Kingdom</td>\n",
       "      <td>2011</td>\n",
       "      <td>2</td>\n",
       "      <td>1415857.231</td>\n",
       "    </tr>\n",
       "    <tr>\n",
       "      <th>127</th>\n",
       "      <td>United Kingdom</td>\n",
       "      <td>2011</td>\n",
       "      <td>3</td>\n",
       "      <td>1703001.743</td>\n",
       "    </tr>\n",
       "    <tr>\n",
       "      <th>128</th>\n",
       "      <td>United Kingdom</td>\n",
       "      <td>2011</td>\n",
       "      <td>4</td>\n",
       "      <td>2137450.520</td>\n",
       "    </tr>\n",
       "    <tr>\n",
       "      <th>129</th>\n",
       "      <td>Unspecified</td>\n",
       "      <td>2011</td>\n",
       "      <td>2</td>\n",
       "      <td>1287.460</td>\n",
       "    </tr>\n",
       "    <tr>\n",
       "      <th>130</th>\n",
       "      <td>Unspecified</td>\n",
       "      <td>2011</td>\n",
       "      <td>3</td>\n",
       "      <td>1240.300</td>\n",
       "    </tr>\n",
       "  </tbody>\n",
       "</table>\n",
       "<p>131 rows × 4 columns</p>\n",
       "</div>"
      ],
      "text/plain": [
       "            Country  Year  Quarter  TotalSalesAmount\n",
       "0         Australia  2010        4           415.700\n",
       "1         Australia  2011        1         41307.220\n",
       "2         Australia  2011        2         39128.240\n",
       "3         Australia  2011        3         30185.670\n",
       "4         Australia  2011        4         24168.430\n",
       "..              ...   ...      ...               ...\n",
       "126  United Kingdom  2011        2       1415857.231\n",
       "127  United Kingdom  2011        3       1703001.743\n",
       "128  United Kingdom  2011        4       2137450.520\n",
       "129     Unspecified  2011        2          1287.460\n",
       "130     Unspecified  2011        3          1240.300\n",
       "\n",
       "[131 rows x 4 columns]"
      ]
     },
     "metadata": {},
     "output_type": "display_data"
    }
   ],
   "source": [
    "queryRollup = \"\"\"\n",
    "SELECT\n",
    "    c.Country,\n",
    "    t.Year,\n",
    "    t.Quarter,\n",
    "    SUM(fs.TotalSales) AS TotalSalesAmount\n",
    "FROM\n",
    "    FactSales fs\n",
    "JOIN\n",
    "    DimCustomer c ON fs.CustomerID = c.CustomerID\n",
    "JOIN\n",
    "    DimTime t ON fs.TimeID = t.TimeID\n",
    "GROUP BY\n",
    "    c.Country, t.Year, t.Quarter\n",
    "ORDER BY\n",
    "    c.Country, t.Year, t.Quarter;\n",
    "\"\"\"\n",
    "rollup_df = pd.read_sql_query(queryRollup, conn)\n",
    "print(\"Roll-up: Total sales by country and quarter\")\n",
    "display(rollup_df)\n"
   ]
  },
  {
   "cell_type": "markdown",
   "id": "88721dbd",
   "metadata": {},
   "source": [
    "# Query 2 : Drill-down\n",
    "- Sales Details for UK by month"
   ]
  },
  {
   "cell_type": "code",
   "execution_count": 6,
   "id": "1381571e",
   "metadata": {},
   "outputs": [
    {
     "name": "stdout",
     "output_type": "stream",
     "text": [
      "\n",
      "Drill-down: UK sales by month and category\n"
     ]
    },
    {
     "data": {
      "application/vnd.microsoft.datawrangler.viewer.v0+json": {
       "columns": [
        {
         "name": "index",
         "rawType": "int64",
         "type": "integer"
        },
        {
         "name": "Month",
         "rawType": "int64",
         "type": "integer"
        },
        {
         "name": "Year",
         "rawType": "int64",
         "type": "integer"
        },
        {
         "name": "Category",
         "rawType": "object",
         "type": "string"
        },
        {
         "name": "TotalQuantity",
         "rawType": "int64",
         "type": "integer"
        },
        {
         "name": "TotalSales",
         "rawType": "float64",
         "type": "float"
        }
       ],
       "ref": "f1eeba00-8070-4926-a042-54345276b13d",
       "rows": [
        [
         "0",
         "12",
         "2010",
         "Decor",
         "11099",
         "21957.10000000003"
        ],
        [
         "1",
         "12",
         "2010",
         "Kits",
         "11315",
         "30159.580000000045"
        ],
        [
         "2",
         "12",
         "2010",
         "Other",
         "88923",
         "141819.04999999847"
        ],
        [
         "3",
         "12",
         "2010",
         "Party Supplies",
         "10468",
         "18264.980000000025"
        ],
        [
         "4",
         "12",
         "2010",
         "Storage",
         "13387",
         "23788.00000000005"
        ],
        [
         "5",
         "1",
         "2011",
         "Decor",
         "16418",
         "33564.530000000064"
        ],
        [
         "6",
         "1",
         "2011",
         "Kits",
         "18842",
         "45926.7099999999"
        ],
        [
         "7",
         "1",
         "2011",
         "Other",
         "199431",
         "281694.800000003"
        ],
        [
         "8",
         "1",
         "2011",
         "Party Supplies",
         "15934",
         "34605.94"
        ],
        [
         "9",
         "1",
         "2011",
         "Storage",
         "27227",
         "45638.03000000001"
        ],
        [
         "10",
         "2",
         "2011",
         "Decor",
         "12243",
         "18118.33000000006"
        ],
        [
         "11",
         "2",
         "2011",
         "Kits",
         "25207",
         "53059.139999999694"
        ],
        [
         "12",
         "2",
         "2011",
         "Other",
         "137906",
         "215899.45000000185"
        ],
        [
         "13",
         "2",
         "2011",
         "Party Supplies",
         "11214",
         "23234.020000000153"
        ],
        [
         "14",
         "2",
         "2011",
         "Storage",
         "25838",
         "43679.740000000005"
        ],
        [
         "15",
         "3",
         "2011",
         "Decor",
         "14016",
         "19845.47000000007"
        ],
        [
         "16",
         "3",
         "2011",
         "Kits",
         "28906",
         "60517.22999999996"
        ],
        [
         "17",
         "3",
         "2011",
         "Other",
         "169215",
         "269422.1400000041"
        ],
        [
         "18",
         "3",
         "2011",
         "Party Supplies",
         "17302",
         "37957.340000000215"
        ],
        [
         "19",
         "3",
         "2011",
         "Storage",
         "42763",
         "71610.66999999985"
        ],
        [
         "20",
         "4",
         "2011",
         "Decor",
         "16891",
         "22851.26000000012"
        ],
        [
         "21",
         "4",
         "2011",
         "Kits",
         "23337",
         "49140.15999999982"
        ],
        [
         "22",
         "4",
         "2011",
         "Other",
         "164304",
         "237069.08100000254"
        ],
        [
         "23",
         "4",
         "2011",
         "Party Supplies",
         "22013",
         "44176.17999999979"
        ],
        [
         "24",
         "4",
         "2011",
         "Storage",
         "29434",
         "48936.35000000027"
        ],
        [
         "25",
         "5",
         "2011",
         "Decor",
         "24724",
         "37052.42000000006"
        ],
        [
         "26",
         "5",
         "2011",
         "Kits",
         "23647",
         "53303.209999999744"
        ],
        [
         "27",
         "5",
         "2011",
         "Other",
         "179630",
         "323700.4300000044"
        ],
        [
         "28",
         "5",
         "2011",
         "Party Supplies",
         "17627",
         "39537.06999999999"
        ],
        [
         "29",
         "5",
         "2011",
         "Storage",
         "49274",
         "85607.48000000093"
        ],
        [
         "30",
         "6",
         "2011",
         "Decor",
         "16808",
         "24635.160000000073"
        ],
        [
         "31",
         "6",
         "2011",
         "Kits",
         "28781",
         "65099.31999999963"
        ],
        [
         "32",
         "6",
         "2011",
         "Other",
         "175221",
         "286201.8900000022"
        ],
        [
         "33",
         "6",
         "2011",
         "Party Supplies",
         "11776",
         "28025.480000000145"
        ],
        [
         "34",
         "6",
         "2011",
         "Storage",
         "41065",
         "70521.74000000107"
        ],
        [
         "35",
         "7",
         "2011",
         "Decor",
         "15803",
         "27733.840000000106"
        ],
        [
         "36",
         "7",
         "2011",
         "Kits",
         "34620",
         "59679.16999999984"
        ],
        [
         "37",
         "7",
         "2011",
         "Other",
         "177389",
         "271050.6010000019"
        ],
        [
         "38",
         "7",
         "2011",
         "Party Supplies",
         "18176",
         "32740.810000000125"
        ],
        [
         "39",
         "7",
         "2011",
         "Storage",
         "47086",
         "78097.38000000094"
        ],
        [
         "40",
         "8",
         "2011",
         "Decor",
         "15901",
         "23985.35000000002"
        ],
        [
         "41",
         "8",
         "2011",
         "Kits",
         "31533",
         "61909.61999999994"
        ],
        [
         "42",
         "8",
         "2011",
         "Other",
         "176013",
         "273955.53000000096"
        ],
        [
         "43",
         "8",
         "2011",
         "Party Supplies",
         "15736",
         "25173.360000000146"
        ],
        [
         "44",
         "8",
         "2011",
         "Storage",
         "54381",
         "89792.0200000009"
        ],
        [
         "45",
         "9",
         "2011",
         "Decor",
         "18657",
         "38977.86000000012"
        ],
        [
         "46",
         "9",
         "2011",
         "Kits",
         "49658",
         "103092.05999999911"
        ],
        [
         "47",
         "9",
         "2011",
         "Other",
         "281205",
         "484499.12200001284"
        ],
        [
         "48",
         "9",
         "2011",
         "Party Supplies",
         "23158",
         "31842.200000000215"
        ],
        [
         "49",
         "9",
         "2011",
         "Storage",
         "58230",
         "100472.82000000136"
        ]
       ],
       "shape": {
        "columns": 5,
        "rows": 65
       }
      },
      "text/html": [
       "<div>\n",
       "<style scoped>\n",
       "    .dataframe tbody tr th:only-of-type {\n",
       "        vertical-align: middle;\n",
       "    }\n",
       "\n",
       "    .dataframe tbody tr th {\n",
       "        vertical-align: top;\n",
       "    }\n",
       "\n",
       "    .dataframe thead th {\n",
       "        text-align: right;\n",
       "    }\n",
       "</style>\n",
       "<table border=\"1\" class=\"dataframe\">\n",
       "  <thead>\n",
       "    <tr style=\"text-align: right;\">\n",
       "      <th></th>\n",
       "      <th>Month</th>\n",
       "      <th>Year</th>\n",
       "      <th>Category</th>\n",
       "      <th>TotalQuantity</th>\n",
       "      <th>TotalSales</th>\n",
       "    </tr>\n",
       "  </thead>\n",
       "  <tbody>\n",
       "    <tr>\n",
       "      <th>0</th>\n",
       "      <td>12</td>\n",
       "      <td>2010</td>\n",
       "      <td>Decor</td>\n",
       "      <td>11099</td>\n",
       "      <td>21957.10</td>\n",
       "    </tr>\n",
       "    <tr>\n",
       "      <th>1</th>\n",
       "      <td>12</td>\n",
       "      <td>2010</td>\n",
       "      <td>Kits</td>\n",
       "      <td>11315</td>\n",
       "      <td>30159.58</td>\n",
       "    </tr>\n",
       "    <tr>\n",
       "      <th>2</th>\n",
       "      <td>12</td>\n",
       "      <td>2010</td>\n",
       "      <td>Other</td>\n",
       "      <td>88923</td>\n",
       "      <td>141819.05</td>\n",
       "    </tr>\n",
       "    <tr>\n",
       "      <th>3</th>\n",
       "      <td>12</td>\n",
       "      <td>2010</td>\n",
       "      <td>Party Supplies</td>\n",
       "      <td>10468</td>\n",
       "      <td>18264.98</td>\n",
       "    </tr>\n",
       "    <tr>\n",
       "      <th>4</th>\n",
       "      <td>12</td>\n",
       "      <td>2010</td>\n",
       "      <td>Storage</td>\n",
       "      <td>13387</td>\n",
       "      <td>23788.00</td>\n",
       "    </tr>\n",
       "    <tr>\n",
       "      <th>...</th>\n",
       "      <td>...</td>\n",
       "      <td>...</td>\n",
       "      <td>...</td>\n",
       "      <td>...</td>\n",
       "      <td>...</td>\n",
       "    </tr>\n",
       "    <tr>\n",
       "      <th>60</th>\n",
       "      <td>12</td>\n",
       "      <td>2011</td>\n",
       "      <td>Decor</td>\n",
       "      <td>11161</td>\n",
       "      <td>20399.56</td>\n",
       "    </tr>\n",
       "    <tr>\n",
       "      <th>61</th>\n",
       "      <td>12</td>\n",
       "      <td>2011</td>\n",
       "      <td>Kits</td>\n",
       "      <td>19810</td>\n",
       "      <td>38151.98</td>\n",
       "    </tr>\n",
       "    <tr>\n",
       "      <th>62</th>\n",
       "      <td>12</td>\n",
       "      <td>2011</td>\n",
       "      <td>Other</td>\n",
       "      <td>185485</td>\n",
       "      <td>339590.16</td>\n",
       "    </tr>\n",
       "    <tr>\n",
       "      <th>63</th>\n",
       "      <td>12</td>\n",
       "      <td>2011</td>\n",
       "      <td>Party Supplies</td>\n",
       "      <td>6733</td>\n",
       "      <td>9616.73</td>\n",
       "    </tr>\n",
       "    <tr>\n",
       "      <th>64</th>\n",
       "      <td>12</td>\n",
       "      <td>2011</td>\n",
       "      <td>Storage</td>\n",
       "      <td>23126</td>\n",
       "      <td>39057.55</td>\n",
       "    </tr>\n",
       "  </tbody>\n",
       "</table>\n",
       "<p>65 rows × 5 columns</p>\n",
       "</div>"
      ],
      "text/plain": [
       "    Month  Year        Category  TotalQuantity  TotalSales\n",
       "0      12  2010           Decor          11099    21957.10\n",
       "1      12  2010            Kits          11315    30159.58\n",
       "2      12  2010           Other          88923   141819.05\n",
       "3      12  2010  Party Supplies          10468    18264.98\n",
       "4      12  2010         Storage          13387    23788.00\n",
       "..    ...   ...             ...            ...         ...\n",
       "60     12  2011           Decor          11161    20399.56\n",
       "61     12  2011            Kits          19810    38151.98\n",
       "62     12  2011           Other         185485   339590.16\n",
       "63     12  2011  Party Supplies           6733     9616.73\n",
       "64     12  2011         Storage          23126    39057.55\n",
       "\n",
       "[65 rows x 5 columns]"
      ]
     },
     "metadata": {},
     "output_type": "display_data"
    }
   ],
   "source": [
    "queryDrilldown = \"\"\"\n",
    "SELECT \n",
    "    t.Month,\n",
    "    t.Year,\n",
    "    p.Category,\n",
    "    SUM(f.Quantity) as TotalQuantity,\n",
    "    SUM(f.TotalSales) as TotalSales\n",
    "FROM FactSales f\n",
    "JOIN DimCustomer c ON f.CustomerID = c.CustomerID\n",
    "JOIN DimTime t ON f.TimeID = t.TimeID\n",
    "JOIN DimProduct p ON f.ProductID = p.ProductID\n",
    "WHERE c.Country = 'United Kingdom'\n",
    "GROUP BY t.Year, t.Month, p.Category\n",
    "ORDER BY t.Year, t.Month, p.Category;\n",
    "\"\"\"\n",
    "drilldown_df = pd.read_sql_query(queryDrilldown, conn)\n",
    "print(\"\\nDrill-down: UK sales by month and category\")\n",
    "display(drilldown_df)"
   ]
  },
  {
   "cell_type": "markdown",
   "id": "2bd4b41d",
   "metadata": {},
   "source": [
    "# Query 3: Slice\n",
    "- Objective: Isolate sales data for a specific product category ('Decor') to analyze its performance.\n",
    "- This query slices the data cube to show only the 'Decor' category."
   ]
  },
  {
   "cell_type": "code",
   "execution_count": 7,
   "id": "65bf523e",
   "metadata": {},
   "outputs": [
    {
     "name": "stdout",
     "output_type": "stream",
     "text": [
      "\n",
      "Slice: Total sales for Decor category by country\n"
     ]
    },
    {
     "data": {
      "application/vnd.microsoft.datawrangler.viewer.v0+json": {
       "columns": [
        {
         "name": "index",
         "rawType": "int64",
         "type": "integer"
        },
        {
         "name": "Country",
         "rawType": "object",
         "type": "string"
        },
        {
         "name": "TotalSales",
         "rawType": "float64",
         "type": "float"
        }
       ],
       "ref": "9c18f6ea-bf5d-465c-8ffe-3cb926d54fa4",
       "rows": [
        [
         "0",
         "United Kingdom",
         "415478.56000002107"
        ],
        [
         "1",
         "Netherlands",
         "18438.219999999998"
        ],
        [
         "2",
         "France",
         "11894.830000000002"
        ],
        [
         "3",
         "EIRE",
         "9828.489999999982"
        ],
        [
         "4",
         "Japan",
         "6624.96"
        ],
        [
         "5",
         "Australia",
         "6356.659999999999"
        ],
        [
         "6",
         "Germany",
         "5008.8"
        ],
        [
         "7",
         "Spain",
         "1525.6500000000005"
        ],
        [
         "8",
         "Switzerland",
         "1454.57"
        ],
        [
         "9",
         "Belgium",
         "1223.0300000000002"
        ],
        [
         "10",
         "Cyprus",
         "1026.9299999999998"
        ],
        [
         "11",
         "Norway",
         "907.08"
        ],
        [
         "12",
         "Channel Islands",
         "873.2199999999999"
        ],
        [
         "13",
         "Finland",
         "787.2099999999998"
        ],
        [
         "14",
         "Italy",
         "740.0599999999998"
        ],
        [
         "15",
         "Sweden",
         "651.6999999999999"
        ],
        [
         "16",
         "Denmark",
         "373.32"
        ],
        [
         "17",
         "Singapore",
         "361.79999999999995"
        ],
        [
         "18",
         "Iceland",
         "325.44"
        ],
        [
         "19",
         "Portugal",
         "313.60999999999996"
        ],
        [
         "20",
         "Poland",
         "191.88"
        ],
        [
         "21",
         "Czech Republic",
         "112.80000000000001"
        ],
        [
         "22",
         "Unspecified",
         "111.99000000000002"
        ],
        [
         "23",
         "Austria",
         "101.46"
        ],
        [
         "24",
         "Canada",
         "53.0"
        ],
        [
         "25",
         "Greece",
         "46.480000000000004"
        ],
        [
         "26",
         "Malta",
         "35.400000000000006"
        ],
        [
         "27",
         "Israel",
         "25.799999999999997"
        ],
        [
         "28",
         "RSA",
         "11.7"
        ]
       ],
       "shape": {
        "columns": 2,
        "rows": 29
       }
      },
      "text/html": [
       "<div>\n",
       "<style scoped>\n",
       "    .dataframe tbody tr th:only-of-type {\n",
       "        vertical-align: middle;\n",
       "    }\n",
       "\n",
       "    .dataframe tbody tr th {\n",
       "        vertical-align: top;\n",
       "    }\n",
       "\n",
       "    .dataframe thead th {\n",
       "        text-align: right;\n",
       "    }\n",
       "</style>\n",
       "<table border=\"1\" class=\"dataframe\">\n",
       "  <thead>\n",
       "    <tr style=\"text-align: right;\">\n",
       "      <th></th>\n",
       "      <th>Country</th>\n",
       "      <th>TotalSales</th>\n",
       "    </tr>\n",
       "  </thead>\n",
       "  <tbody>\n",
       "    <tr>\n",
       "      <th>0</th>\n",
       "      <td>United Kingdom</td>\n",
       "      <td>415478.56</td>\n",
       "    </tr>\n",
       "    <tr>\n",
       "      <th>1</th>\n",
       "      <td>Netherlands</td>\n",
       "      <td>18438.22</td>\n",
       "    </tr>\n",
       "    <tr>\n",
       "      <th>2</th>\n",
       "      <td>France</td>\n",
       "      <td>11894.83</td>\n",
       "    </tr>\n",
       "    <tr>\n",
       "      <th>3</th>\n",
       "      <td>EIRE</td>\n",
       "      <td>9828.49</td>\n",
       "    </tr>\n",
       "    <tr>\n",
       "      <th>4</th>\n",
       "      <td>Japan</td>\n",
       "      <td>6624.96</td>\n",
       "    </tr>\n",
       "    <tr>\n",
       "      <th>5</th>\n",
       "      <td>Australia</td>\n",
       "      <td>6356.66</td>\n",
       "    </tr>\n",
       "    <tr>\n",
       "      <th>6</th>\n",
       "      <td>Germany</td>\n",
       "      <td>5008.80</td>\n",
       "    </tr>\n",
       "    <tr>\n",
       "      <th>7</th>\n",
       "      <td>Spain</td>\n",
       "      <td>1525.65</td>\n",
       "    </tr>\n",
       "    <tr>\n",
       "      <th>8</th>\n",
       "      <td>Switzerland</td>\n",
       "      <td>1454.57</td>\n",
       "    </tr>\n",
       "    <tr>\n",
       "      <th>9</th>\n",
       "      <td>Belgium</td>\n",
       "      <td>1223.03</td>\n",
       "    </tr>\n",
       "    <tr>\n",
       "      <th>10</th>\n",
       "      <td>Cyprus</td>\n",
       "      <td>1026.93</td>\n",
       "    </tr>\n",
       "    <tr>\n",
       "      <th>11</th>\n",
       "      <td>Norway</td>\n",
       "      <td>907.08</td>\n",
       "    </tr>\n",
       "    <tr>\n",
       "      <th>12</th>\n",
       "      <td>Channel Islands</td>\n",
       "      <td>873.22</td>\n",
       "    </tr>\n",
       "    <tr>\n",
       "      <th>13</th>\n",
       "      <td>Finland</td>\n",
       "      <td>787.21</td>\n",
       "    </tr>\n",
       "    <tr>\n",
       "      <th>14</th>\n",
       "      <td>Italy</td>\n",
       "      <td>740.06</td>\n",
       "    </tr>\n",
       "    <tr>\n",
       "      <th>15</th>\n",
       "      <td>Sweden</td>\n",
       "      <td>651.70</td>\n",
       "    </tr>\n",
       "    <tr>\n",
       "      <th>16</th>\n",
       "      <td>Denmark</td>\n",
       "      <td>373.32</td>\n",
       "    </tr>\n",
       "    <tr>\n",
       "      <th>17</th>\n",
       "      <td>Singapore</td>\n",
       "      <td>361.80</td>\n",
       "    </tr>\n",
       "    <tr>\n",
       "      <th>18</th>\n",
       "      <td>Iceland</td>\n",
       "      <td>325.44</td>\n",
       "    </tr>\n",
       "    <tr>\n",
       "      <th>19</th>\n",
       "      <td>Portugal</td>\n",
       "      <td>313.61</td>\n",
       "    </tr>\n",
       "    <tr>\n",
       "      <th>20</th>\n",
       "      <td>Poland</td>\n",
       "      <td>191.88</td>\n",
       "    </tr>\n",
       "    <tr>\n",
       "      <th>21</th>\n",
       "      <td>Czech Republic</td>\n",
       "      <td>112.80</td>\n",
       "    </tr>\n",
       "    <tr>\n",
       "      <th>22</th>\n",
       "      <td>Unspecified</td>\n",
       "      <td>111.99</td>\n",
       "    </tr>\n",
       "    <tr>\n",
       "      <th>23</th>\n",
       "      <td>Austria</td>\n",
       "      <td>101.46</td>\n",
       "    </tr>\n",
       "    <tr>\n",
       "      <th>24</th>\n",
       "      <td>Canada</td>\n",
       "      <td>53.00</td>\n",
       "    </tr>\n",
       "    <tr>\n",
       "      <th>25</th>\n",
       "      <td>Greece</td>\n",
       "      <td>46.48</td>\n",
       "    </tr>\n",
       "    <tr>\n",
       "      <th>26</th>\n",
       "      <td>Malta</td>\n",
       "      <td>35.40</td>\n",
       "    </tr>\n",
       "    <tr>\n",
       "      <th>27</th>\n",
       "      <td>Israel</td>\n",
       "      <td>25.80</td>\n",
       "    </tr>\n",
       "    <tr>\n",
       "      <th>28</th>\n",
       "      <td>RSA</td>\n",
       "      <td>11.70</td>\n",
       "    </tr>\n",
       "  </tbody>\n",
       "</table>\n",
       "</div>"
      ],
      "text/plain": [
       "            Country  TotalSales\n",
       "0    United Kingdom   415478.56\n",
       "1       Netherlands    18438.22\n",
       "2            France    11894.83\n",
       "3              EIRE     9828.49\n",
       "4             Japan     6624.96\n",
       "5         Australia     6356.66\n",
       "6           Germany     5008.80\n",
       "7             Spain     1525.65\n",
       "8       Switzerland     1454.57\n",
       "9           Belgium     1223.03\n",
       "10           Cyprus     1026.93\n",
       "11           Norway      907.08\n",
       "12  Channel Islands      873.22\n",
       "13          Finland      787.21\n",
       "14            Italy      740.06\n",
       "15           Sweden      651.70\n",
       "16          Denmark      373.32\n",
       "17        Singapore      361.80\n",
       "18          Iceland      325.44\n",
       "19         Portugal      313.61\n",
       "20           Poland      191.88\n",
       "21   Czech Republic      112.80\n",
       "22      Unspecified      111.99\n",
       "23          Austria      101.46\n",
       "24           Canada       53.00\n",
       "25           Greece       46.48\n",
       "26            Malta       35.40\n",
       "27           Israel       25.80\n",
       "28              RSA       11.70"
      ]
     },
     "metadata": {},
     "output_type": "display_data"
    }
   ],
   "source": [
    "querySlice = \"\"\"\n",
    "SELECT \n",
    "    c.Country,\n",
    "    SUM(f.TotalSales) as TotalSales\n",
    "FROM FactSales f\n",
    "JOIN DimCustomer c ON f.CustomerID = c.CustomerID\n",
    "JOIN DimProduct p ON f.ProductID = p.ProductID\n",
    "WHERE p.Category = 'Decor'\n",
    "GROUP BY c.Country\n",
    "ORDER BY TotalSales DESC;\n",
    "\"\"\"\n",
    "slice_df = pd.read_sql_query(querySlice, conn)\n",
    "print(\"\\nSlice: Total sales for Decor category by country\")\n",
    "display(slice_df)\n"
   ]
  },
  {
   "cell_type": "markdown",
   "id": "6911020c",
   "metadata": {},
   "source": [
    "# Visualizing Query Result\n",
    "### Bar chart of sales by country"
   ]
  },
  {
   "cell_type": "code",
   "execution_count": 15,
   "id": "a3885a8e",
   "metadata": {},
   "outputs": [
    {
     "data": {
      "text/plain": [
       "<Figure size 1200x600 with 0 Axes>"
      ]
     },
     "metadata": {},
     "output_type": "display_data"
    },
    {
     "data": {
      "image/png": "[encoded data removed]",
      "text/plain": [
       "<Figure size 640x480 with 1 Axes>"
      ]
     },
     "metadata": {},
     "output_type": "display_data"
    }
   ],
   "source": [
    "plt.figure(figsize=(12, 6))\n",
    "slice_df.plot(kind='bar', x='Country', y='TotalSales', legend=False)\n",
    "plt.title('Total Sales for Decor Category by Country')\n",
    "plt.ylabel('Total Sales (£)')\n",
    "plt.xlabel('Country')\n",
    "plt.xticks(rotation=90)\n",
    "plt.tight_layout()\n",
    "plt.grid()\n",
    "plt.savefig('decor_sales_by_country.png')\n",
    "plt.show()"
   ]
  },
  {
   "cell_type": "markdown",
   "id": "d2994496",
   "metadata": {},
   "source": [
    "### closing the connection"
   ]
  },
  {
   "cell_type": "code",
   "execution_count": 17,
   "id": "647d8ee9",
   "metadata": {},
   "outputs": [],
   "source": [
    "conn.close()"
   ]
  }
 ],
 "metadata": {
  "kernelspec": {
   "display_name": "base",
   "language": "python",
   "name": "python3"
  },
  "language_info": {
   "codemirror_mode": {
    "name": "ipython",
    "version": 3
   },
   "file_extension": ".py",
   "mimetype": "text/x-python",
   "name": "python",
   "nbconvert_exporter": "python",
   "pygments_lexer": "ipython3",
   "version": "3.11.5"
  }
 },
 "nbformat": 4,
 "nbformat_minor": 5
}
