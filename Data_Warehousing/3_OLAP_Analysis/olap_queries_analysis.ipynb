{
 "cells": [
  {
   "cell_type": "markdown",
   "id": "18a899af",
   "metadata": {},
   "source": [
    "# Olap Queries Analysis"
   ]
  },
  {
   "cell_type": "markdown",
   "id": "77993f73",
   "metadata": {},
   "source": []
  }
 ],
 "metadata": {
  "kernelspec": {
   "display_name": "base",
   "language": "python",
   "name": "python3"
  },
  "language_info": {
   "name": "python",
   "version": "3.11.5"
  }
 },
 "nbformat": 4,
 "nbformat_minor": 5
}
