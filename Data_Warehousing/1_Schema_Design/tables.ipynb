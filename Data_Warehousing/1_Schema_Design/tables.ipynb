{
 "cells": [
  {
   "cell_type": "markdown",
   "id": "d24c79fd",
   "metadata": {},
   "source": [
    "# Checking database tables"
   ]
  },
  {
   "cell_type": "code",
   "execution_count": 11,
   "id": "8e9b66e5",
   "metadata": {},
   "outputs": [
    {
     "name": "stdout",
     "output_type": "stream",
     "text": [
      "\n",
      "=== DimTime ===\n"
     ]
    },
    {
     "data": {
      "application/vnd.microsoft.datawrangler.viewer.v0+json": {
       "columns": [
        {
         "name": "index",
         "rawType": "int64",
         "type": "integer"
        },
        {
         "name": "TimeID",
         "rawType": "int64",
         "type": "integer"
        },
        {
         "name": "InvoiceDate",
         "rawType": "object",
         "type": "string"
        },
        {
         "name": "Day",
         "rawType": "int64",
         "type": "integer"
        },
        {
         "name": "Month",
         "rawType": "int64",
         "type": "integer"
        },
        {
         "name": "Quarter",
         "rawType": "int64",
         "type": "integer"
        },
        {
         "name": "Year",
         "rawType": "int64",
         "type": "integer"
        }
       ],
       "ref": "caf23de1-514c-4e64-a456-3588352c9d31",
       "rows": [
        [
         "0",
         "1",
         "2025-01-01",
         "1",
         "1",
         "1",
         "2025"
        ],
        [
         "1",
         "2",
         "2025-01-15",
         "15",
         "1",
         "1",
         "2025"
        ],
        [
         "2",
         "3",
         "2025-02-01",
         "1",
         "2",
         "1",
         "2025"
        ],
        [
         "3",
         "4",
         "2025-03-15",
         "15",
         "3",
         "1",
         "2025"
        ],
        [
         "4",
         "5",
         "2025-04-01",
         "1",
         "4",
         "2",
         "2025"
        ]
       ],
       "shape": {
        "columns": 6,
        "rows": 5
       }
      },
      "text/html": [
       "<div>\n",
       "<style scoped>\n",
       "    .dataframe tbody tr th:only-of-type {\n",
       "        vertical-align: middle;\n",
       "    }\n",
       "\n",
       "    .dataframe tbody tr th {\n",
       "        vertical-align: top;\n",
       "    }\n",
       "\n",
       "    .dataframe thead th {\n",
       "        text-align: right;\n",
       "    }\n",
       "</style>\n",
       "<table border=\"1\" class=\"dataframe\">\n",
       "  <thead>\n",
       "    <tr style=\"text-align: right;\">\n",
       "      <th></th>\n",
       "      <th>TimeID</th>\n",
       "      <th>InvoiceDate</th>\n",
       "      <th>Day</th>\n",
       "      <th>Month</th>\n",
       "      <th>Quarter</th>\n",
       "      <th>Year</th>\n",
       "    </tr>\n",
       "  </thead>\n",
       "  <tbody>\n",
       "    <tr>\n",
       "      <th>0</th>\n",
       "      <td>1</td>\n",
       "      <td>2025-01-01</td>\n",
       "      <td>1</td>\n",
       "      <td>1</td>\n",
       "      <td>1</td>\n",
       "      <td>2025</td>\n",
       "    </tr>\n",
       "    <tr>\n",
       "      <th>1</th>\n",
       "      <td>2</td>\n",
       "      <td>2025-01-15</td>\n",
       "      <td>15</td>\n",
       "      <td>1</td>\n",
       "      <td>1</td>\n",
       "      <td>2025</td>\n",
       "    </tr>\n",
       "    <tr>\n",
       "      <th>2</th>\n",
       "      <td>3</td>\n",
       "      <td>2025-02-01</td>\n",
       "      <td>1</td>\n",
       "      <td>2</td>\n",
       "      <td>1</td>\n",
       "      <td>2025</td>\n",
       "    </tr>\n",
       "    <tr>\n",
       "      <th>3</th>\n",
       "      <td>4</td>\n",
       "      <td>2025-03-15</td>\n",
       "      <td>15</td>\n",
       "      <td>3</td>\n",
       "      <td>1</td>\n",
       "      <td>2025</td>\n",
       "    </tr>\n",
       "    <tr>\n",
       "      <th>4</th>\n",
       "      <td>5</td>\n",
       "      <td>2025-04-01</td>\n",
       "      <td>1</td>\n",
       "      <td>4</td>\n",
       "      <td>2</td>\n",
       "      <td>2025</td>\n",
       "    </tr>\n",
       "  </tbody>\n",
       "</table>\n",
       "</div>"
      ],
      "text/plain": [
       "   TimeID InvoiceDate  Day  Month  Quarter  Year\n",
       "0       1  2025-01-01    1      1        1  2025\n",
       "1       2  2025-01-15   15      1        1  2025\n",
       "2       3  2025-02-01    1      2        1  2025\n",
       "3       4  2025-03-15   15      3        1  2025\n",
       "4       5  2025-04-01    1      4        2  2025"
      ]
     },
     "metadata": {},
     "output_type": "display_data"
    },
    {
     "name": "stdout",
     "output_type": "stream",
     "text": [
      "\n",
      "=== DimProduct ===\n"
     ]
    },
    {
     "data": {
      "application/vnd.microsoft.datawrangler.viewer.v0+json": {
       "columns": [
        {
         "name": "index",
         "rawType": "int64",
         "type": "integer"
        },
        {
         "name": "ProductID",
         "rawType": "int64",
         "type": "integer"
        },
        {
         "name": "StockCode",
         "rawType": "object",
         "type": "string"
        },
        {
         "name": "Description",
         "rawType": "object",
         "type": "string"
        },
        {
         "name": "Category",
         "rawType": "object",
         "type": "string"
        }
       ],
       "ref": "0e312bdc-25fd-4e70-bf8d-1de22d6bc591",
       "rows": [
        [
         "0",
         "1",
         "P001",
         "Laptop",
         "Electronics"
        ],
        [
         "1",
         "2",
         "P002",
         "Smartphone",
         "Electronics"
        ],
        [
         "2",
         "3",
         "P003",
         "T-Shirt",
         "Clothing"
        ],
        [
         "3",
         "4",
         "P004",
         "Jeans",
         "Clothing"
        ],
        [
         "4",
         "5",
         "P005",
         "Coffee Maker",
         "Appliances"
        ]
       ],
       "shape": {
        "columns": 4,
        "rows": 5
       }
      },
      "text/html": [
       "<div>\n",
       "<style scoped>\n",
       "    .dataframe tbody tr th:only-of-type {\n",
       "        vertical-align: middle;\n",
       "    }\n",
       "\n",
       "    .dataframe tbody tr th {\n",
       "        vertical-align: top;\n",
       "    }\n",
       "\n",
       "    .dataframe thead th {\n",
       "        text-align: right;\n",
       "    }\n",
       "</style>\n",
       "<table border=\"1\" class=\"dataframe\">\n",
       "  <thead>\n",
       "    <tr style=\"text-align: right;\">\n",
       "      <th></th>\n",
       "      <th>ProductID</th>\n",
       "      <th>StockCode</th>\n",
       "      <th>Description</th>\n",
       "      <th>Category</th>\n",
       "    </tr>\n",
       "  </thead>\n",
       "  <tbody>\n",
       "    <tr>\n",
       "      <th>0</th>\n",
       "      <td>1</td>\n",
       "      <td>P001</td>\n",
       "      <td>Laptop</td>\n",
       "      <td>Electronics</td>\n",
       "    </tr>\n",
       "    <tr>\n",
       "      <th>1</th>\n",
       "      <td>2</td>\n",
       "      <td>P002</td>\n",
       "      <td>Smartphone</td>\n",
       "      <td>Electronics</td>\n",
       "    </tr>\n",
       "    <tr>\n",
       "      <th>2</th>\n",
       "      <td>3</td>\n",
       "      <td>P003</td>\n",
       "      <td>T-Shirt</td>\n",
       "      <td>Clothing</td>\n",
       "    </tr>\n",
       "    <tr>\n",
       "      <th>3</th>\n",
       "      <td>4</td>\n",
       "      <td>P004</td>\n",
       "      <td>Jeans</td>\n",
       "      <td>Clothing</td>\n",
       "    </tr>\n",
       "    <tr>\n",
       "      <th>4</th>\n",
       "      <td>5</td>\n",
       "      <td>P005</td>\n",
       "      <td>Coffee Maker</td>\n",
       "      <td>Appliances</td>\n",
       "    </tr>\n",
       "  </tbody>\n",
       "</table>\n",
       "</div>"
      ],
      "text/plain": [
       "   ProductID StockCode   Description     Category\n",
       "0          1      P001        Laptop  Electronics\n",
       "1          2      P002    Smartphone  Electronics\n",
       "2          3      P003       T-Shirt     Clothing\n",
       "3          4      P004         Jeans     Clothing\n",
       "4          5      P005  Coffee Maker   Appliances"
      ]
     },
     "metadata": {},
     "output_type": "display_data"
    },
    {
     "name": "stdout",
     "output_type": "stream",
     "text": [
      "\n",
      "=== DimCustomer ===\n"
     ]
    },
    {
     "data": {
      "application/vnd.microsoft.datawrangler.viewer.v0+json": {
       "columns": [
        {
         "name": "index",
         "rawType": "int64",
         "type": "integer"
        },
        {
         "name": "CustomerID",
         "rawType": "int64",
         "type": "integer"
        },
        {
         "name": "Country",
         "rawType": "object",
         "type": "string"
        }
       ],
       "ref": "2fc4c916-7ad7-4ea4-af93-23809e10a064",
       "rows": [
        [
         "0",
         "1001",
         "USA"
        ],
        [
         "1",
         "1002",
         "UK"
        ],
        [
         "2",
         "1003",
         "Canada"
        ],
        [
         "3",
         "1004",
         "Australia"
        ],
        [
         "4",
         "1005",
         "Germany"
        ]
       ],
       "shape": {
        "columns": 2,
        "rows": 5
       }
      },
      "text/html": [
       "<div>\n",
       "<style scoped>\n",
       "    .dataframe tbody tr th:only-of-type {\n",
       "        vertical-align: middle;\n",
       "    }\n",
       "\n",
       "    .dataframe tbody tr th {\n",
       "        vertical-align: top;\n",
       "    }\n",
       "\n",
       "    .dataframe thead th {\n",
       "        text-align: right;\n",
       "    }\n",
       "</style>\n",
       "<table border=\"1\" class=\"dataframe\">\n",
       "  <thead>\n",
       "    <tr style=\"text-align: right;\">\n",
       "      <th></th>\n",
       "      <th>CustomerID</th>\n",
       "      <th>Country</th>\n",
       "    </tr>\n",
       "  </thead>\n",
       "  <tbody>\n",
       "    <tr>\n",
       "      <th>0</th>\n",
       "      <td>1001</td>\n",
       "      <td>USA</td>\n",
       "    </tr>\n",
       "    <tr>\n",
       "      <th>1</th>\n",
       "      <td>1002</td>\n",
       "      <td>UK</td>\n",
       "    </tr>\n",
       "    <tr>\n",
       "      <th>2</th>\n",
       "      <td>1003</td>\n",
       "      <td>Canada</td>\n",
       "    </tr>\n",
       "    <tr>\n",
       "      <th>3</th>\n",
       "      <td>1004</td>\n",
       "      <td>Australia</td>\n",
       "    </tr>\n",
       "    <tr>\n",
       "      <th>4</th>\n",
       "      <td>1005</td>\n",
       "      <td>Germany</td>\n",
       "    </tr>\n",
       "  </tbody>\n",
       "</table>\n",
       "</div>"
      ],
      "text/plain": [
       "   CustomerID    Country\n",
       "0        1001        USA\n",
       "1        1002         UK\n",
       "2        1003     Canada\n",
       "3        1004  Australia\n",
       "4        1005    Germany"
      ]
     },
     "metadata": {},
     "output_type": "display_data"
    },
    {
     "name": "stdout",
     "output_type": "stream",
     "text": [
      "\n",
      "=== FactSales ===\n"
     ]
    },
    {
     "data": {
      "application/vnd.microsoft.datawrangler.viewer.v0+json": {
       "columns": [
        {
         "name": "index",
         "rawType": "int64",
         "type": "integer"
        },
        {
         "name": "SalesID",
         "rawType": "int64",
         "type": "integer"
        },
        {
         "name": "InvoiceNo",
         "rawType": "object",
         "type": "string"
        },
        {
         "name": "Quantity",
         "rawType": "int64",
         "type": "integer"
        },
        {
         "name": "UnitPrice",
         "rawType": "float64",
         "type": "float"
        },
        {
         "name": "TotalSales",
         "rawType": "float64",
         "type": "float"
        },
        {
         "name": "TimeID",
         "rawType": "int64",
         "type": "integer"
        },
        {
         "name": "ProductID",
         "rawType": "int64",
         "type": "integer"
        },
        {
         "name": "CustomerID",
         "rawType": "int64",
         "type": "integer"
        }
       ],
       "ref": "8168f3aa-e1e5-4a9b-bbd0-80e56a06e248",
       "rows": [
        [
         "0",
         "1",
         "INV001",
         "2",
         "999.99",
         "1999.98",
         "1",
         "1",
         "1001"
        ],
        [
         "1",
         "2",
         "INV002",
         "1",
         "699.99",
         "699.99",
         "2",
         "2",
         "1002"
        ],
        [
         "2",
         "3",
         "INV003",
         "3",
         "29.99",
         "89.97",
         "3",
         "3",
         "1003"
        ],
        [
         "3",
         "4",
         "INV004",
         "2",
         "79.99",
         "159.98",
         "4",
         "4",
         "1004"
        ],
        [
         "4",
         "5",
         "INV005",
         "1",
         "89.99",
         "89.99",
         "5",
         "5",
         "1005"
        ]
       ],
       "shape": {
        "columns": 8,
        "rows": 5
       }
      },
      "text/html": [
       "<div>\n",
       "<style scoped>\n",
       "    .dataframe tbody tr th:only-of-type {\n",
       "        vertical-align: middle;\n",
       "    }\n",
       "\n",
       "    .dataframe tbody tr th {\n",
       "        vertical-align: top;\n",
       "    }\n",
       "\n",
       "    .dataframe thead th {\n",
       "        text-align: right;\n",
       "    }\n",
       "</style>\n",
       "<table border=\"1\" class=\"dataframe\">\n",
       "  <thead>\n",
       "    <tr style=\"text-align: right;\">\n",
       "      <th></th>\n",
       "      <th>SalesID</th>\n",
       "      <th>InvoiceNo</th>\n",
       "      <th>Quantity</th>\n",
       "      <th>UnitPrice</th>\n",
       "      <th>TotalSales</th>\n",
       "      <th>TimeID</th>\n",
       "      <th>ProductID</th>\n",
       "      <th>CustomerID</th>\n",
       "    </tr>\n",
       "  </thead>\n",
       "  <tbody>\n",
       "    <tr>\n",
       "      <th>0</th>\n",
       "      <td>1</td>\n",
       "      <td>INV001</td>\n",
       "      <td>2</td>\n",
       "      <td>999.99</td>\n",
       "      <td>1999.98</td>\n",
       "      <td>1</td>\n",
       "      <td>1</td>\n",
       "      <td>1001</td>\n",
       "    </tr>\n",
       "    <tr>\n",
       "      <th>1</th>\n",
       "      <td>2</td>\n",
       "      <td>INV002</td>\n",
       "      <td>1</td>\n",
       "      <td>699.99</td>\n",
       "      <td>699.99</td>\n",
       "      <td>2</td>\n",
       "      <td>2</td>\n",
       "      <td>1002</td>\n",
       "    </tr>\n",
       "    <tr>\n",
       "      <th>2</th>\n",
       "      <td>3</td>\n",
       "      <td>INV003</td>\n",
       "      <td>3</td>\n",
       "      <td>29.99</td>\n",
       "      <td>89.97</td>\n",
       "      <td>3</td>\n",
       "      <td>3</td>\n",
       "      <td>1003</td>\n",
       "    </tr>\n",
       "    <tr>\n",
       "      <th>3</th>\n",
       "      <td>4</td>\n",
       "      <td>INV004</td>\n",
       "      <td>2</td>\n",
       "      <td>79.99</td>\n",
       "      <td>159.98</td>\n",
       "      <td>4</td>\n",
       "      <td>4</td>\n",
       "      <td>1004</td>\n",
       "    </tr>\n",
       "    <tr>\n",
       "      <th>4</th>\n",
       "      <td>5</td>\n",
       "      <td>INV005</td>\n",
       "      <td>1</td>\n",
       "      <td>89.99</td>\n",
       "      <td>89.99</td>\n",
       "      <td>5</td>\n",
       "      <td>5</td>\n",
       "      <td>1005</td>\n",
       "    </tr>\n",
       "  </tbody>\n",
       "</table>\n",
       "</div>"
      ],
      "text/plain": [
       "   SalesID InvoiceNo  Quantity  UnitPrice  TotalSales  TimeID  ProductID  \\\n",
       "0        1    INV001         2     999.99     1999.98       1          1   \n",
       "1        2    INV002         1     699.99      699.99       2          2   \n",
       "2        3    INV003         3      29.99       89.97       3          3   \n",
       "3        4    INV004         2      79.99      159.98       4          4   \n",
       "4        5    INV005         1      89.99       89.99       5          5   \n",
       "\n",
       "   CustomerID  \n",
       "0        1001  \n",
       "1        1002  \n",
       "2        1003  \n",
       "3        1004  \n",
       "4        1005  "
      ]
     },
     "metadata": {},
     "output_type": "display_data"
    },
    {
     "name": "stdout",
     "output_type": "stream",
     "text": [
      "\n",
      "Tables in the database:\n",
      "\n",
      "=== sqlite_sequence ===\n"
     ]
    },
    {
     "data": {
      "application/vnd.microsoft.datawrangler.viewer.v0+json": {
       "columns": [
        {
         "name": "index",
         "rawType": "int64",
         "type": "integer"
        },
        {
         "name": "name",
         "rawType": "object",
         "type": "string"
        },
        {
         "name": "seq",
         "rawType": "int64",
         "type": "integer"
        }
       ],
       "ref": "603a6cec-7e44-47d7-b32b-76dd396e87cb",
       "rows": [
        [
         "0",
         "DimTime",
         "15"
        ],
        [
         "1",
         "DimProduct",
         "15"
        ],
        [
         "2",
         "FactSales",
         "15"
        ]
       ],
       "shape": {
        "columns": 2,
        "rows": 3
       }
      },
      "text/html": [
       "<div>\n",
       "<style scoped>\n",
       "    .dataframe tbody tr th:only-of-type {\n",
       "        vertical-align: middle;\n",
       "    }\n",
       "\n",
       "    .dataframe tbody tr th {\n",
       "        vertical-align: top;\n",
       "    }\n",
       "\n",
       "    .dataframe thead th {\n",
       "        text-align: right;\n",
       "    }\n",
       "</style>\n",
       "<table border=\"1\" class=\"dataframe\">\n",
       "  <thead>\n",
       "    <tr style=\"text-align: right;\">\n",
       "      <th></th>\n",
       "      <th>name</th>\n",
       "      <th>seq</th>\n",
       "    </tr>\n",
       "  </thead>\n",
       "  <tbody>\n",
       "    <tr>\n",
       "      <th>0</th>\n",
       "      <td>DimTime</td>\n",
       "      <td>15</td>\n",
       "    </tr>\n",
       "    <tr>\n",
       "      <th>1</th>\n",
       "      <td>DimProduct</td>\n",
       "      <td>15</td>\n",
       "    </tr>\n",
       "    <tr>\n",
       "      <th>2</th>\n",
       "      <td>FactSales</td>\n",
       "      <td>15</td>\n",
       "    </tr>\n",
       "  </tbody>\n",
       "</table>\n",
       "</div>"
      ],
      "text/plain": [
       "         name  seq\n",
       "0     DimTime   15\n",
       "1  DimProduct   15\n",
       "2   FactSales   15"
      ]
     },
     "metadata": {},
     "output_type": "display_data"
    },
    {
     "name": "stdout",
     "output_type": "stream",
     "text": [
      "\n",
      "Schema:\n",
      "Column: name, Type: \n",
      "Column: seq, Type: \n",
      "--------------------------------------------------\n",
      "\n",
      "=== DimTime ===\n"
     ]
    },
    {
     "data": {
      "application/vnd.microsoft.datawrangler.viewer.v0+json": {
       "columns": [
        {
         "name": "index",
         "rawType": "int64",
         "type": "integer"
        },
        {
         "name": "TimeID",
         "rawType": "int64",
         "type": "integer"
        },
        {
         "name": "InvoiceDate",
         "rawType": "object",
         "type": "string"
        },
        {
         "name": "Day",
         "rawType": "int64",
         "type": "integer"
        },
        {
         "name": "Month",
         "rawType": "int64",
         "type": "integer"
        },
        {
         "name": "Quarter",
         "rawType": "int64",
         "type": "integer"
        },
        {
         "name": "Year",
         "rawType": "int64",
         "type": "integer"
        }
       ],
       "ref": "b025213a-a7f3-493e-8af7-2efd8e201664",
       "rows": [
        [
         "0",
         "1",
         "2025-01-01",
         "1",
         "1",
         "1",
         "2025"
        ],
        [
         "1",
         "2",
         "2025-01-15",
         "15",
         "1",
         "1",
         "2025"
        ],
        [
         "2",
         "3",
         "2025-02-01",
         "1",
         "2",
         "1",
         "2025"
        ],
        [
         "3",
         "4",
         "2025-03-15",
         "15",
         "3",
         "1",
         "2025"
        ],
        [
         "4",
         "5",
         "2025-04-01",
         "1",
         "4",
         "2",
         "2025"
        ]
       ],
       "shape": {
        "columns": 6,
        "rows": 5
       }
      },
      "text/html": [
       "<div>\n",
       "<style scoped>\n",
       "    .dataframe tbody tr th:only-of-type {\n",
       "        vertical-align: middle;\n",
       "    }\n",
       "\n",
       "    .dataframe tbody tr th {\n",
       "        vertical-align: top;\n",
       "    }\n",
       "\n",
       "    .dataframe thead th {\n",
       "        text-align: right;\n",
       "    }\n",
       "</style>\n",
       "<table border=\"1\" class=\"dataframe\">\n",
       "  <thead>\n",
       "    <tr style=\"text-align: right;\">\n",
       "      <th></th>\n",
       "      <th>TimeID</th>\n",
       "      <th>InvoiceDate</th>\n",
       "      <th>Day</th>\n",
       "      <th>Month</th>\n",
       "      <th>Quarter</th>\n",
       "      <th>Year</th>\n",
       "    </tr>\n",
       "  </thead>\n",
       "  <tbody>\n",
       "    <tr>\n",
       "      <th>0</th>\n",
       "      <td>1</td>\n",
       "      <td>2025-01-01</td>\n",
       "      <td>1</td>\n",
       "      <td>1</td>\n",
       "      <td>1</td>\n",
       "      <td>2025</td>\n",
       "    </tr>\n",
       "    <tr>\n",
       "      <th>1</th>\n",
       "      <td>2</td>\n",
       "      <td>2025-01-15</td>\n",
       "      <td>15</td>\n",
       "      <td>1</td>\n",
       "      <td>1</td>\n",
       "      <td>2025</td>\n",
       "    </tr>\n",
       "    <tr>\n",
       "      <th>2</th>\n",
       "      <td>3</td>\n",
       "      <td>2025-02-01</td>\n",
       "      <td>1</td>\n",
       "      <td>2</td>\n",
       "      <td>1</td>\n",
       "      <td>2025</td>\n",
       "    </tr>\n",
       "    <tr>\n",
       "      <th>3</th>\n",
       "      <td>4</td>\n",
       "      <td>2025-03-15</td>\n",
       "      <td>15</td>\n",
       "      <td>3</td>\n",
       "      <td>1</td>\n",
       "      <td>2025</td>\n",
       "    </tr>\n",
       "    <tr>\n",
       "      <th>4</th>\n",
       "      <td>5</td>\n",
       "      <td>2025-04-01</td>\n",
       "      <td>1</td>\n",
       "      <td>4</td>\n",
       "      <td>2</td>\n",
       "      <td>2025</td>\n",
       "    </tr>\n",
       "  </tbody>\n",
       "</table>\n",
       "</div>"
      ],
      "text/plain": [
       "   TimeID InvoiceDate  Day  Month  Quarter  Year\n",
       "0       1  2025-01-01    1      1        1  2025\n",
       "1       2  2025-01-15   15      1        1  2025\n",
       "2       3  2025-02-01    1      2        1  2025\n",
       "3       4  2025-03-15   15      3        1  2025\n",
       "4       5  2025-04-01    1      4        2  2025"
      ]
     },
     "metadata": {},
     "output_type": "display_data"
    },
    {
     "name": "stdout",
     "output_type": "stream",
     "text": [
      "\n",
      "Schema:\n",
      "Column: TimeID, Type: INTEGER\n",
      "Column: InvoiceDate, Type: TEXT\n",
      "Column: Day, Type: INTEGER\n",
      "Column: Month, Type: INTEGER\n",
      "Column: Quarter, Type: INTEGER\n",
      "Column: Year, Type: INTEGER\n",
      "--------------------------------------------------\n",
      "\n",
      "=== DimProduct ===\n"
     ]
    },
    {
     "data": {
      "application/vnd.microsoft.datawrangler.viewer.v0+json": {
       "columns": [
        {
         "name": "index",
         "rawType": "int64",
         "type": "integer"
        },
        {
         "name": "ProductID",
         "rawType": "int64",
         "type": "integer"
        },
        {
         "name": "StockCode",
         "rawType": "object",
         "type": "string"
        },
        {
         "name": "Description",
         "rawType": "object",
         "type": "string"
        },
        {
         "name": "Category",
         "rawType": "object",
         "type": "string"
        }
       ],
       "ref": "7399bfbb-556c-4ab6-ac6d-14046d9357eb",
       "rows": [
        [
         "0",
         "1",
         "P001",
         "Laptop",
         "Electronics"
        ],
        [
         "1",
         "2",
         "P002",
         "Smartphone",
         "Electronics"
        ],
        [
         "2",
         "3",
         "P003",
         "T-Shirt",
         "Clothing"
        ],
        [
         "3",
         "4",
         "P004",
         "Jeans",
         "Clothing"
        ],
        [
         "4",
         "5",
         "P005",
         "Coffee Maker",
         "Appliances"
        ]
       ],
       "shape": {
        "columns": 4,
        "rows": 5
       }
      },
      "text/html": [
       "<div>\n",
       "<style scoped>\n",
       "    .dataframe tbody tr th:only-of-type {\n",
       "        vertical-align: middle;\n",
       "    }\n",
       "\n",
       "    .dataframe tbody tr th {\n",
       "        vertical-align: top;\n",
       "    }\n",
       "\n",
       "    .dataframe thead th {\n",
       "        text-align: right;\n",
       "    }\n",
       "</style>\n",
       "<table border=\"1\" class=\"dataframe\">\n",
       "  <thead>\n",
       "    <tr style=\"text-align: right;\">\n",
       "      <th></th>\n",
       "      <th>ProductID</th>\n",
       "      <th>StockCode</th>\n",
       "      <th>Description</th>\n",
       "      <th>Category</th>\n",
       "    </tr>\n",
       "  </thead>\n",
       "  <tbody>\n",
       "    <tr>\n",
       "      <th>0</th>\n",
       "      <td>1</td>\n",
       "      <td>P001</td>\n",
       "      <td>Laptop</td>\n",
       "      <td>Electronics</td>\n",
       "    </tr>\n",
       "    <tr>\n",
       "      <th>1</th>\n",
       "      <td>2</td>\n",
       "      <td>P002</td>\n",
       "      <td>Smartphone</td>\n",
       "      <td>Electronics</td>\n",
       "    </tr>\n",
       "    <tr>\n",
       "      <th>2</th>\n",
       "      <td>3</td>\n",
       "      <td>P003</td>\n",
       "      <td>T-Shirt</td>\n",
       "      <td>Clothing</td>\n",
       "    </tr>\n",
       "    <tr>\n",
       "      <th>3</th>\n",
       "      <td>4</td>\n",
       "      <td>P004</td>\n",
       "      <td>Jeans</td>\n",
       "      <td>Clothing</td>\n",
       "    </tr>\n",
       "    <tr>\n",
       "      <th>4</th>\n",
       "      <td>5</td>\n",
       "      <td>P005</td>\n",
       "      <td>Coffee Maker</td>\n",
       "      <td>Appliances</td>\n",
       "    </tr>\n",
       "  </tbody>\n",
       "</table>\n",
       "</div>"
      ],
      "text/plain": [
       "   ProductID StockCode   Description     Category\n",
       "0          1      P001        Laptop  Electronics\n",
       "1          2      P002    Smartphone  Electronics\n",
       "2          3      P003       T-Shirt     Clothing\n",
       "3          4      P004         Jeans     Clothing\n",
       "4          5      P005  Coffee Maker   Appliances"
      ]
     },
     "metadata": {},
     "output_type": "display_data"
    },
    {
     "name": "stdout",
     "output_type": "stream",
     "text": [
      "\n",
      "Schema:\n",
      "Column: ProductID, Type: INTEGER\n",
      "Column: StockCode, Type: TEXT\n",
      "Column: Description, Type: TEXT\n",
      "Column: Category, Type: TEXT\n",
      "--------------------------------------------------\n",
      "\n",
      "=== DimCustomer ===\n"
     ]
    },
    {
     "data": {
      "application/vnd.microsoft.datawrangler.viewer.v0+json": {
       "columns": [
        {
         "name": "index",
         "rawType": "int64",
         "type": "integer"
        },
        {
         "name": "CustomerID",
         "rawType": "int64",
         "type": "integer"
        },
        {
         "name": "Country",
         "rawType": "object",
         "type": "string"
        }
       ],
       "ref": "4dbc3b2c-721f-4375-854a-05cc5b11972f",
       "rows": [
        [
         "0",
         "1001",
         "USA"
        ],
        [
         "1",
         "1002",
         "UK"
        ],
        [
         "2",
         "1003",
         "Canada"
        ],
        [
         "3",
         "1004",
         "Australia"
        ],
        [
         "4",
         "1005",
         "Germany"
        ]
       ],
       "shape": {
        "columns": 2,
        "rows": 5
       }
      },
      "text/html": [
       "<div>\n",
       "<style scoped>\n",
       "    .dataframe tbody tr th:only-of-type {\n",
       "        vertical-align: middle;\n",
       "    }\n",
       "\n",
       "    .dataframe tbody tr th {\n",
       "        vertical-align: top;\n",
       "    }\n",
       "\n",
       "    .dataframe thead th {\n",
       "        text-align: right;\n",
       "    }\n",
       "</style>\n",
       "<table border=\"1\" class=\"dataframe\">\n",
       "  <thead>\n",
       "    <tr style=\"text-align: right;\">\n",
       "      <th></th>\n",
       "      <th>CustomerID</th>\n",
       "      <th>Country</th>\n",
       "    </tr>\n",
       "  </thead>\n",
       "  <tbody>\n",
       "    <tr>\n",
       "      <th>0</th>\n",
       "      <td>1001</td>\n",
       "      <td>USA</td>\n",
       "    </tr>\n",
       "    <tr>\n",
       "      <th>1</th>\n",
       "      <td>1002</td>\n",
       "      <td>UK</td>\n",
       "    </tr>\n",
       "    <tr>\n",
       "      <th>2</th>\n",
       "      <td>1003</td>\n",
       "      <td>Canada</td>\n",
       "    </tr>\n",
       "    <tr>\n",
       "      <th>3</th>\n",
       "      <td>1004</td>\n",
       "      <td>Australia</td>\n",
       "    </tr>\n",
       "    <tr>\n",
       "      <th>4</th>\n",
       "      <td>1005</td>\n",
       "      <td>Germany</td>\n",
       "    </tr>\n",
       "  </tbody>\n",
       "</table>\n",
       "</div>"
      ],
      "text/plain": [
       "   CustomerID    Country\n",
       "0        1001        USA\n",
       "1        1002         UK\n",
       "2        1003     Canada\n",
       "3        1004  Australia\n",
       "4        1005    Germany"
      ]
     },
     "metadata": {},
     "output_type": "display_data"
    },
    {
     "name": "stdout",
     "output_type": "stream",
     "text": [
      "\n",
      "Schema:\n",
      "Column: CustomerID, Type: INTEGER\n",
      "Column: Country, Type: TEXT\n",
      "--------------------------------------------------\n",
      "\n",
      "=== FactSales ===\n"
     ]
    },
    {
     "data": {
      "application/vnd.microsoft.datawrangler.viewer.v0+json": {
       "columns": [
        {
         "name": "index",
         "rawType": "int64",
         "type": "integer"
        },
        {
         "name": "SalesID",
         "rawType": "int64",
         "type": "integer"
        },
        {
         "name": "InvoiceNo",
         "rawType": "object",
         "type": "string"
        },
        {
         "name": "Quantity",
         "rawType": "int64",
         "type": "integer"
        },
        {
         "name": "UnitPrice",
         "rawType": "float64",
         "type": "float"
        },
        {
         "name": "TotalSales",
         "rawType": "float64",
         "type": "float"
        },
        {
         "name": "TimeID",
         "rawType": "int64",
         "type": "integer"
        },
        {
         "name": "ProductID",
         "rawType": "int64",
         "type": "integer"
        },
        {
         "name": "CustomerID",
         "rawType": "int64",
         "type": "integer"
        }
       ],
       "ref": "22319a34-f6f6-49a5-894a-7fa8a7dafba1",
       "rows": [
        [
         "0",
         "1",
         "INV001",
         "2",
         "999.99",
         "1999.98",
         "1",
         "1",
         "1001"
        ],
        [
         "1",
         "2",
         "INV002",
         "1",
         "699.99",
         "699.99",
         "2",
         "2",
         "1002"
        ],
        [
         "2",
         "3",
         "INV003",
         "3",
         "29.99",
         "89.97",
         "3",
         "3",
         "1003"
        ],
        [
         "3",
         "4",
         "INV004",
         "2",
         "79.99",
         "159.98",
         "4",
         "4",
         "1004"
        ],
        [
         "4",
         "5",
         "INV005",
         "1",
         "89.99",
         "89.99",
         "5",
         "5",
         "1005"
        ]
       ],
       "shape": {
        "columns": 8,
        "rows": 5
       }
      },
      "text/html": [
       "<div>\n",
       "<style scoped>\n",
       "    .dataframe tbody tr th:only-of-type {\n",
       "        vertical-align: middle;\n",
       "    }\n",
       "\n",
       "    .dataframe tbody tr th {\n",
       "        vertical-align: top;\n",
       "    }\n",
       "\n",
       "    .dataframe thead th {\n",
       "        text-align: right;\n",
       "    }\n",
       "</style>\n",
       "<table border=\"1\" class=\"dataframe\">\n",
       "  <thead>\n",
       "    <tr style=\"text-align: right;\">\n",
       "      <th></th>\n",
       "      <th>SalesID</th>\n",
       "      <th>InvoiceNo</th>\n",
       "      <th>Quantity</th>\n",
       "      <th>UnitPrice</th>\n",
       "      <th>TotalSales</th>\n",
       "      <th>TimeID</th>\n",
       "      <th>ProductID</th>\n",
       "      <th>CustomerID</th>\n",
       "    </tr>\n",
       "  </thead>\n",
       "  <tbody>\n",
       "    <tr>\n",
       "      <th>0</th>\n",
       "      <td>1</td>\n",
       "      <td>INV001</td>\n",
       "      <td>2</td>\n",
       "      <td>999.99</td>\n",
       "      <td>1999.98</td>\n",
       "      <td>1</td>\n",
       "      <td>1</td>\n",
       "      <td>1001</td>\n",
       "    </tr>\n",
       "    <tr>\n",
       "      <th>1</th>\n",
       "      <td>2</td>\n",
       "      <td>INV002</td>\n",
       "      <td>1</td>\n",
       "      <td>699.99</td>\n",
       "      <td>699.99</td>\n",
       "      <td>2</td>\n",
       "      <td>2</td>\n",
       "      <td>1002</td>\n",
       "    </tr>\n",
       "    <tr>\n",
       "      <th>2</th>\n",
       "      <td>3</td>\n",
       "      <td>INV003</td>\n",
       "      <td>3</td>\n",
       "      <td>29.99</td>\n",
       "      <td>89.97</td>\n",
       "      <td>3</td>\n",
       "      <td>3</td>\n",
       "      <td>1003</td>\n",
       "    </tr>\n",
       "    <tr>\n",
       "      <th>3</th>\n",
       "      <td>4</td>\n",
       "      <td>INV004</td>\n",
       "      <td>2</td>\n",
       "      <td>79.99</td>\n",
       "      <td>159.98</td>\n",
       "      <td>4</td>\n",
       "      <td>4</td>\n",
       "      <td>1004</td>\n",
       "    </tr>\n",
       "    <tr>\n",
       "      <th>4</th>\n",
       "      <td>5</td>\n",
       "      <td>INV005</td>\n",
       "      <td>1</td>\n",
       "      <td>89.99</td>\n",
       "      <td>89.99</td>\n",
       "      <td>5</td>\n",
       "      <td>5</td>\n",
       "      <td>1005</td>\n",
       "    </tr>\n",
       "  </tbody>\n",
       "</table>\n",
       "</div>"
      ],
      "text/plain": [
       "   SalesID InvoiceNo  Quantity  UnitPrice  TotalSales  TimeID  ProductID  \\\n",
       "0        1    INV001         2     999.99     1999.98       1          1   \n",
       "1        2    INV002         1     699.99      699.99       2          2   \n",
       "2        3    INV003         3      29.99       89.97       3          3   \n",
       "3        4    INV004         2      79.99      159.98       4          4   \n",
       "4        5    INV005         1      89.99       89.99       5          5   \n",
       "\n",
       "   CustomerID  \n",
       "0        1001  \n",
       "1        1002  \n",
       "2        1003  \n",
       "3        1004  \n",
       "4        1005  "
      ]
     },
     "metadata": {},
     "output_type": "display_data"
    },
    {
     "name": "stdout",
     "output_type": "stream",
     "text": [
      "\n",
      "Schema:\n",
      "Column: SalesID, Type: INTEGER\n",
      "Column: InvoiceNo, Type: TEXT\n",
      "Column: Quantity, Type: INTEGER\n",
      "Column: UnitPrice, Type: REAL\n",
      "Column: TotalSales, Type: REAL\n",
      "Column: TimeID, Type: INTEGER\n",
      "Column: ProductID, Type: INTEGER\n",
      "Column: CustomerID, Type: INTEGER\n",
      "--------------------------------------------------\n"
     ]
    }
   ],
   "source": [
    "import sqlite3\n",
    "import pandas as pd\n",
    "import os\n",
    "\n",
    "# Optional: import display() if running in Jupyter\n",
    "try:\n",
    "    from IPython.display import display\n",
    "except ImportError:\n",
    "    display = print  # Fallback to print if not in Jupyter\n",
    "\n",
    "# Paths\n",
    "db_path = os.path.join('..', '1_Schema_Design', 'retail.db')\n",
    "sql_path = os.path.join(os.getcwd(), 'schema_design.sql')  # adjust if needed\n",
    "\n",
    "# Connect to the database\n",
    "conn = sqlite3.connect(db_path)\n",
    "cursor = conn.cursor()\n",
    "\n",
    "# Run schema SQL\n",
    "with open(sql_path, 'r', encoding='utf-8') as sql_file:\n",
    "    sql_script = sql_file.read()\n",
    "\n",
    "# Drop tables if they exist to avoid duplicate insert errors\n",
    "cursor.executescript(\"\"\"\n",
    "DROP TABLE IF EXISTS FactSales;\n",
    "DROP TABLE IF EXISTS DimTime;\n",
    "DROP TABLE IF EXISTS DimProduct;\n",
    "DROP TABLE IF EXISTS DimCustomer;\n",
    "\"\"\")\n",
    "\n",
    "# Execute the SQL script\n",
    "cursor.executescript(sql_script)\n",
    "conn.commit()\n",
    "\n",
    "# Verify data for the 4 tables you have\n",
    "for table in ['DimTime', 'DimProduct', 'DimCustomer', 'FactSales']:\n",
    "    print(f\"\\n=== {table} ===\")\n",
    "    df = pd.read_sql_query(f\"SELECT * FROM {table} LIMIT 5;\", conn)\n",
    "    display(df)\n",
    "\n",
    "# Show all tables and their schema\n",
    "print(\"\\nTables in the database:\")\n",
    "cursor.execute(\"SELECT name FROM sqlite_master WHERE type='table';\")\n",
    "for (table_name,) in cursor.fetchall():\n",
    "    print(f\"\\n=== {table_name} ===\")\n",
    "    df = pd.read_sql_query(f\"SELECT * FROM {table_name} LIMIT 5;\", conn)\n",
    "    display(df)\n",
    "\n",
    "    print(\"\\nSchema:\")\n",
    "    cursor.execute(f\"PRAGMA table_info({table_name})\")\n",
    "    for column in cursor.fetchall():\n",
    "        print(f\"Column: {column[1]}, Type: {column[2]}\")\n",
    "    print(\"-\" * 50)\n",
    "\n",
    "# Close connection\n",
    "conn.close()\n"
   ]
  }
 ],
 "metadata": {
  "kernelspec": {
   "display_name": "base",
   "language": "python",
   "name": "python3"
  },
  "language_info": {
   "codemirror_mode": {
    "name": "ipython",
    "version": 3
   },
   "file_extension": ".py",
   "mimetype": "text/x-python",
   "name": "python",
   "nbconvert_exporter": "python",
   "pygments_lexer": "ipython3",
   "version": "3.11.5"
  }
 },
 "nbformat": 4,
 "nbformat_minor": 5
}
